{
 "cells": [
  {
   "cell_type": "code",
   "execution_count": 1,
   "metadata": {
    "colab": {
     "base_uri": "https://localhost:8080/"
    },
    "id": "ngBGPugWq1bg",
    "outputId": "efa9f6bf-438f-4780-a620-631537e2866c"
   },
   "outputs": [],
   "source": [
    "import pandas  as pd\n",
    "import numpy as np\n",
    "import os\n",
    "import dotenv"
   ]
  },
  {
   "cell_type": "code",
   "execution_count": 2,
   "metadata": {
    "colab": {
     "base_uri": "https://localhost:8080/"
    },
    "id": "bahlyrf0rHf2",
    "outputId": "8a40e7d2-4967-48e3-c713-e742bccc538e"
   },
   "outputs": [],
   "source": [
    "dotenv.load_dotenv()\n",
    "\n",
    "data_path = os.environ.get(\"data_path\")"
   ]
  },
  {
   "cell_type": "code",
   "execution_count": 3,
   "metadata": {
    "colab": {
     "base_uri": "https://localhost:8080/",
     "height": 241
    },
    "id": "-EX2nvr2rnx4",
    "outputId": "a6fc5b1b-a0d3-4c7d-d617-22ea7ca523b7"
   },
   "outputs": [
    {
     "data": {
      "text/html": [
       "<div>\n",
       "<style scoped>\n",
       "    .dataframe tbody tr th:only-of-type {\n",
       "        vertical-align: middle;\n",
       "    }\n",
       "\n",
       "    .dataframe tbody tr th {\n",
       "        vertical-align: top;\n",
       "    }\n",
       "\n",
       "    .dataframe thead th {\n",
       "        text-align: right;\n",
       "    }\n",
       "</style>\n",
       "<table border=\"1\" class=\"dataframe\">\n",
       "  <thead>\n",
       "    <tr style=\"text-align: right;\">\n",
       "      <th></th>\n",
       "      <th>Unnamed: 0</th>\n",
       "      <th>smokes</th>\n",
       "      <th>sex</th>\n",
       "      <th>friends</th>\n",
       "      <th>too_much_alkohol</th>\n",
       "      <th>martial_status</th>\n",
       "      <th>doing_sports</th>\n",
       "      <th>weight</th>\n",
       "      <th>income</th>\n",
       "      <th>goes_to_church</th>\n",
       "      <th>...</th>\n",
       "      <th>job</th>\n",
       "      <th>class</th>\n",
       "      <th>age</th>\n",
       "      <th>education_level</th>\n",
       "      <th>unstable_income</th>\n",
       "      <th>strenuous_work</th>\n",
       "      <th>overloaded_at_work</th>\n",
       "      <th>unfair_work</th>\n",
       "      <th>income_stressful</th>\n",
       "      <th>hedonism</th>\n",
       "    </tr>\n",
       "  </thead>\n",
       "  <tbody>\n",
       "    <tr>\n",
       "      <th>0</th>\n",
       "      <td>51</td>\n",
       "      <td>0</td>\n",
       "      <td>male</td>\n",
       "      <td>_small</td>\n",
       "      <td>_no</td>\n",
       "      <td>_married</td>\n",
       "      <td>_no</td>\n",
       "      <td>_overweight</td>\n",
       "      <td>_4th_quantile</td>\n",
       "      <td>_yes</td>\n",
       "      <td>...</td>\n",
       "      <td>_yes</td>\n",
       "      <td>village</td>\n",
       "      <td>_between_40_60</td>\n",
       "      <td>_middle</td>\n",
       "      <td>_no</td>\n",
       "      <td>_yes</td>\n",
       "      <td>_yes</td>\n",
       "      <td>_no</td>\n",
       "      <td>_no</td>\n",
       "      <td>_no</td>\n",
       "    </tr>\n",
       "    <tr>\n",
       "      <th>1</th>\n",
       "      <td>52</td>\n",
       "      <td>0</td>\n",
       "      <td>male</td>\n",
       "      <td>_medium</td>\n",
       "      <td>_no</td>\n",
       "      <td>_married</td>\n",
       "      <td>_no</td>\n",
       "      <td>obesity</td>\n",
       "      <td>_4th_quantile</td>\n",
       "      <td>_yes</td>\n",
       "      <td>...</td>\n",
       "      <td>_yes</td>\n",
       "      <td>village</td>\n",
       "      <td>_below_40</td>\n",
       "      <td>_middle</td>\n",
       "      <td>_yes</td>\n",
       "      <td>_yes</td>\n",
       "      <td>_no</td>\n",
       "      <td>_no</td>\n",
       "      <td>_no</td>\n",
       "      <td>_no</td>\n",
       "    </tr>\n",
       "    <tr>\n",
       "      <th>2</th>\n",
       "      <td>53</td>\n",
       "      <td>0</td>\n",
       "      <td>female</td>\n",
       "      <td>_medium</td>\n",
       "      <td>_no</td>\n",
       "      <td>_married</td>\n",
       "      <td>_no</td>\n",
       "      <td>_normal_weight</td>\n",
       "      <td>_3rd_quantile</td>\n",
       "      <td>_yes</td>\n",
       "      <td>...</td>\n",
       "      <td>_no</td>\n",
       "      <td>village</td>\n",
       "      <td>_below_40</td>\n",
       "      <td>_middle</td>\n",
       "      <td>_yes</td>\n",
       "      <td>_no</td>\n",
       "      <td>_no</td>\n",
       "      <td>_no</td>\n",
       "      <td>_no</td>\n",
       "      <td>_no</td>\n",
       "    </tr>\n",
       "    <tr>\n",
       "      <th>3</th>\n",
       "      <td>54</td>\n",
       "      <td>0</td>\n",
       "      <td>female</td>\n",
       "      <td>_small</td>\n",
       "      <td>_no</td>\n",
       "      <td>_married</td>\n",
       "      <td>_no</td>\n",
       "      <td>_overweight</td>\n",
       "      <td>_1st_quantile</td>\n",
       "      <td>_yes</td>\n",
       "      <td>...</td>\n",
       "      <td>_yes</td>\n",
       "      <td>village</td>\n",
       "      <td>_between_40_60</td>\n",
       "      <td>_middle</td>\n",
       "      <td>_no</td>\n",
       "      <td>_yes</td>\n",
       "      <td>_yes</td>\n",
       "      <td>_no</td>\n",
       "      <td>_no</td>\n",
       "      <td>_no</td>\n",
       "    </tr>\n",
       "    <tr>\n",
       "      <th>4</th>\n",
       "      <td>136</td>\n",
       "      <td>1</td>\n",
       "      <td>male</td>\n",
       "      <td>_small</td>\n",
       "      <td>_no</td>\n",
       "      <td>_married</td>\n",
       "      <td>_no</td>\n",
       "      <td>_normal_weight</td>\n",
       "      <td>_1st_quantile</td>\n",
       "      <td>_no</td>\n",
       "      <td>...</td>\n",
       "      <td>_no</td>\n",
       "      <td>village</td>\n",
       "      <td>_above_60</td>\n",
       "      <td>_Primary</td>\n",
       "      <td>_yes</td>\n",
       "      <td>_yes</td>\n",
       "      <td>_yes</td>\n",
       "      <td>_yes</td>\n",
       "      <td>_yes</td>\n",
       "      <td>_yes</td>\n",
       "    </tr>\n",
       "  </tbody>\n",
       "</table>\n",
       "<p>5 rows × 24 columns</p>\n",
       "</div>"
      ],
      "text/plain": [
       "   Unnamed: 0  smokes     sex  friends too_much_alkohol martial_status  \\\n",
       "0          51       0    male   _small              _no       _married   \n",
       "1          52       0    male  _medium              _no       _married   \n",
       "2          53       0  female  _medium              _no       _married   \n",
       "3          54       0  female   _small              _no       _married   \n",
       "4         136       1    male   _small              _no       _married   \n",
       "\n",
       "  doing_sports          weight         income goes_to_church  ...   job  \\\n",
       "0          _no     _overweight  _4th_quantile           _yes  ...  _yes   \n",
       "1          _no         obesity  _4th_quantile           _yes  ...  _yes   \n",
       "2          _no  _normal_weight  _3rd_quantile           _yes  ...   _no   \n",
       "3          _no     _overweight  _1st_quantile           _yes  ...  _yes   \n",
       "4          _no  _normal_weight  _1st_quantile            _no  ...   _no   \n",
       "\n",
       "      class             age education_level unstable_income strenuous_work  \\\n",
       "0   village  _between_40_60         _middle             _no           _yes   \n",
       "1   village       _below_40         _middle            _yes           _yes   \n",
       "2   village       _below_40         _middle            _yes            _no   \n",
       "3   village  _between_40_60         _middle             _no           _yes   \n",
       "4   village       _above_60        _Primary            _yes           _yes   \n",
       "\n",
       "  overloaded_at_work unfair_work income_stressful hedonism  \n",
       "0               _yes         _no              _no      _no  \n",
       "1                _no         _no              _no      _no  \n",
       "2                _no         _no              _no      _no  \n",
       "3               _yes         _no              _no      _no  \n",
       "4               _yes        _yes             _yes     _yes  \n",
       "\n",
       "[5 rows x 24 columns]"
      ]
     },
     "execution_count": 3,
     "metadata": {},
     "output_type": "execute_result"
    }
   ],
   "source": [
    "test_df = pd.read_csv(data_path+\"test_df.csv\")\n",
    "train_df = pd.read_csv(data_path+\"train_df.csv\")\n",
    "train_df.head()"
   ]
  },
  {
   "cell_type": "code",
   "execution_count": 4,
   "metadata": {
    "colab": {
     "base_uri": "https://localhost:8080/"
    },
    "id": "A1JLkECMvNZC",
    "outputId": "64db2b59-875b-465c-a3be-ece2fe2d6b7c"
   },
   "outputs": [
    {
     "data": {
      "text/plain": [
       "Index(['Unnamed: 0', 'smokes', 'sex', 'friends', 'too_much_alkohol',\n",
       "       'martial_status', 'doing_sports', 'weight', 'income', 'goes_to_church',\n",
       "       'goes_to_cinema', 'goes_to_restaurant', 'drugs', 'law_breaking', 'job',\n",
       "       'class', 'age', 'education_level', 'unstable_income', 'strenuous_work',\n",
       "       'overloaded_at_work', 'unfair_work', 'income_stressful', 'hedonism'],\n",
       "      dtype='object')"
      ]
     },
     "execution_count": 4,
     "metadata": {},
     "output_type": "execute_result"
    }
   ],
   "source": [
    "train_df.columns"
   ]
  },
  {
   "cell_type": "code",
   "execution_count": 5,
   "metadata": {
    "colab": {
     "base_uri": "https://localhost:8080/"
    },
    "id": "MWU9gjV3rxv8",
    "outputId": "5d75e20a-d205-419f-b1d2-a2eb136f88be"
   },
   "outputs": [],
   "source": [
    "from BorutaShap import BorutaShap\n",
    "import shap\n",
    "import xgboost"
   ]
  },
  {
   "cell_type": "code",
   "execution_count": 7,
   "metadata": {
    "id": "S7-fACt6utMf"
   },
   "outputs": [],
   "source": [
    "X_train = train_df.iloc[:,1:].copy()\n",
    "X_test = test_df.iloc[:,1:].copy()\n",
    "\n",
    "X_train = pd.get_dummies(X_train, columns=['sex', 'friends', 'too_much_alkohol',\n",
    "       'martial_status', 'doing_sports', 'weight', 'income', 'goes_to_church',\n",
    "       'goes_to_cinema', 'goes_to_restaurant', 'drugs', 'law_breaking', 'job',\n",
    "       'class', 'age', 'education_level', 'unstable_income', 'strenuous_work',\n",
    "       'overloaded_at_work', 'unfair_work', 'income_stressful', 'hedonism'],drop_first=True)\n",
    "X_test = pd.get_dummies(X_test, columns=['sex', 'friends', 'too_much_alkohol',\n",
    "       'martial_status', 'doing_sports', 'weight', 'income', 'goes_to_church',\n",
    "       'goes_to_cinema', 'goes_to_restaurant', 'drugs', 'law_breaking', 'job',\n",
    "       'class', 'age', 'education_level', 'unstable_income', 'strenuous_work',\n",
    "       'overloaded_at_work', 'unfair_work', 'income_stressful', 'hedonism'], drop_first=True)"
   ]
  },
  {
   "cell_type": "code",
   "execution_count": 8,
   "metadata": {
    "id": "a1LSrlAUwO4d"
   },
   "outputs": [],
   "source": [
    "y_train = X_train.pop('smokes')\n",
    "y_test = X_test.pop('smokes')"
   ]
  },
  {
   "cell_type": "code",
   "execution_count": 9,
   "metadata": {
    "colab": {
     "base_uri": "https://localhost:8080/",
     "height": 309
    },
    "id": "peCG4P9Ivrnm",
    "outputId": "d479a053-a64a-4046-d7bd-bb7e09b0bd16"
   },
   "outputs": [
    {
     "data": {
      "text/html": [
       "<div>\n",
       "<style scoped>\n",
       "    .dataframe tbody tr th:only-of-type {\n",
       "        vertical-align: middle;\n",
       "    }\n",
       "\n",
       "    .dataframe tbody tr th {\n",
       "        vertical-align: top;\n",
       "    }\n",
       "\n",
       "    .dataframe thead th {\n",
       "        text-align: right;\n",
       "    }\n",
       "</style>\n",
       "<table border=\"1\" class=\"dataframe\">\n",
       "  <thead>\n",
       "    <tr style=\"text-align: right;\">\n",
       "      <th></th>\n",
       "      <th>sex_male</th>\n",
       "      <th>friends__medium</th>\n",
       "      <th>friends__small</th>\n",
       "      <th>too_much_alkohol__yes</th>\n",
       "      <th>martial_status__married</th>\n",
       "      <th>martial_status__single</th>\n",
       "      <th>doing_sports__yes</th>\n",
       "      <th>weight__overweight</th>\n",
       "      <th>weight__underweight</th>\n",
       "      <th>weight_obesity</th>\n",
       "      <th>...</th>\n",
       "      <th>age__below_40</th>\n",
       "      <th>age__between_40_60</th>\n",
       "      <th>education_level__Primary</th>\n",
       "      <th>education_level__middle</th>\n",
       "      <th>unstable_income__yes</th>\n",
       "      <th>strenuous_work__yes</th>\n",
       "      <th>overloaded_at_work__yes</th>\n",
       "      <th>unfair_work__yes</th>\n",
       "      <th>income_stressful__yes</th>\n",
       "      <th>hedonism__yes</th>\n",
       "    </tr>\n",
       "  </thead>\n",
       "  <tbody>\n",
       "    <tr>\n",
       "      <th>0</th>\n",
       "      <td>1</td>\n",
       "      <td>0</td>\n",
       "      <td>1</td>\n",
       "      <td>0</td>\n",
       "      <td>1</td>\n",
       "      <td>0</td>\n",
       "      <td>0</td>\n",
       "      <td>1</td>\n",
       "      <td>0</td>\n",
       "      <td>0</td>\n",
       "      <td>...</td>\n",
       "      <td>0</td>\n",
       "      <td>1</td>\n",
       "      <td>0</td>\n",
       "      <td>1</td>\n",
       "      <td>0</td>\n",
       "      <td>1</td>\n",
       "      <td>1</td>\n",
       "      <td>0</td>\n",
       "      <td>0</td>\n",
       "      <td>0</td>\n",
       "    </tr>\n",
       "    <tr>\n",
       "      <th>1</th>\n",
       "      <td>1</td>\n",
       "      <td>1</td>\n",
       "      <td>0</td>\n",
       "      <td>0</td>\n",
       "      <td>1</td>\n",
       "      <td>0</td>\n",
       "      <td>0</td>\n",
       "      <td>0</td>\n",
       "      <td>0</td>\n",
       "      <td>1</td>\n",
       "      <td>...</td>\n",
       "      <td>1</td>\n",
       "      <td>0</td>\n",
       "      <td>0</td>\n",
       "      <td>1</td>\n",
       "      <td>1</td>\n",
       "      <td>1</td>\n",
       "      <td>0</td>\n",
       "      <td>0</td>\n",
       "      <td>0</td>\n",
       "      <td>0</td>\n",
       "    </tr>\n",
       "    <tr>\n",
       "      <th>2</th>\n",
       "      <td>0</td>\n",
       "      <td>1</td>\n",
       "      <td>0</td>\n",
       "      <td>0</td>\n",
       "      <td>1</td>\n",
       "      <td>0</td>\n",
       "      <td>0</td>\n",
       "      <td>0</td>\n",
       "      <td>0</td>\n",
       "      <td>0</td>\n",
       "      <td>...</td>\n",
       "      <td>1</td>\n",
       "      <td>0</td>\n",
       "      <td>0</td>\n",
       "      <td>1</td>\n",
       "      <td>1</td>\n",
       "      <td>0</td>\n",
       "      <td>0</td>\n",
       "      <td>0</td>\n",
       "      <td>0</td>\n",
       "      <td>0</td>\n",
       "    </tr>\n",
       "    <tr>\n",
       "      <th>3</th>\n",
       "      <td>0</td>\n",
       "      <td>0</td>\n",
       "      <td>1</td>\n",
       "      <td>0</td>\n",
       "      <td>1</td>\n",
       "      <td>0</td>\n",
       "      <td>0</td>\n",
       "      <td>1</td>\n",
       "      <td>0</td>\n",
       "      <td>0</td>\n",
       "      <td>...</td>\n",
       "      <td>0</td>\n",
       "      <td>1</td>\n",
       "      <td>0</td>\n",
       "      <td>1</td>\n",
       "      <td>0</td>\n",
       "      <td>1</td>\n",
       "      <td>1</td>\n",
       "      <td>0</td>\n",
       "      <td>0</td>\n",
       "      <td>0</td>\n",
       "    </tr>\n",
       "    <tr>\n",
       "      <th>4</th>\n",
       "      <td>1</td>\n",
       "      <td>0</td>\n",
       "      <td>1</td>\n",
       "      <td>0</td>\n",
       "      <td>1</td>\n",
       "      <td>0</td>\n",
       "      <td>0</td>\n",
       "      <td>0</td>\n",
       "      <td>0</td>\n",
       "      <td>0</td>\n",
       "      <td>...</td>\n",
       "      <td>0</td>\n",
       "      <td>0</td>\n",
       "      <td>1</td>\n",
       "      <td>0</td>\n",
       "      <td>1</td>\n",
       "      <td>1</td>\n",
       "      <td>1</td>\n",
       "      <td>1</td>\n",
       "      <td>1</td>\n",
       "      <td>1</td>\n",
       "    </tr>\n",
       "  </tbody>\n",
       "</table>\n",
       "<p>5 rows × 34 columns</p>\n",
       "</div>"
      ],
      "text/plain": [
       "   sex_male  friends__medium  friends__small  too_much_alkohol__yes  \\\n",
       "0         1                0               1                      0   \n",
       "1         1                1               0                      0   \n",
       "2         0                1               0                      0   \n",
       "3         0                0               1                      0   \n",
       "4         1                0               1                      0   \n",
       "\n",
       "   martial_status__married  martial_status__single  doing_sports__yes  \\\n",
       "0                        1                       0                  0   \n",
       "1                        1                       0                  0   \n",
       "2                        1                       0                  0   \n",
       "3                        1                       0                  0   \n",
       "4                        1                       0                  0   \n",
       "\n",
       "   weight__overweight  weight__underweight  weight_obesity  ...  \\\n",
       "0                   1                    0               0  ...   \n",
       "1                   0                    0               1  ...   \n",
       "2                   0                    0               0  ...   \n",
       "3                   1                    0               0  ...   \n",
       "4                   0                    0               0  ...   \n",
       "\n",
       "   age__below_40  age__between_40_60  education_level__Primary  \\\n",
       "0              0                   1                         0   \n",
       "1              1                   0                         0   \n",
       "2              1                   0                         0   \n",
       "3              0                   1                         0   \n",
       "4              0                   0                         1   \n",
       "\n",
       "   education_level__middle  unstable_income__yes  strenuous_work__yes  \\\n",
       "0                        1                     0                    1   \n",
       "1                        1                     1                    1   \n",
       "2                        1                     1                    0   \n",
       "3                        1                     0                    1   \n",
       "4                        0                     1                    1   \n",
       "\n",
       "   overloaded_at_work__yes  unfair_work__yes  income_stressful__yes  \\\n",
       "0                        1                 0                      0   \n",
       "1                        0                 0                      0   \n",
       "2                        0                 0                      0   \n",
       "3                        1                 0                      0   \n",
       "4                        1                 1                      1   \n",
       "\n",
       "   hedonism__yes  \n",
       "0              0  \n",
       "1              0  \n",
       "2              0  \n",
       "3              0  \n",
       "4              1  \n",
       "\n",
       "[5 rows x 34 columns]"
      ]
     },
     "execution_count": 9,
     "metadata": {},
     "output_type": "execute_result"
    }
   ],
   "source": [
    "X_train.head()"
   ]
  },
  {
   "cell_type": "code",
   "execution_count": 10,
   "metadata": {},
   "outputs": [
    {
     "data": {
      "text/plain": [
       "1     0\n",
       "2     0\n",
       "3     0\n",
       "4     1\n",
       "5     0\n",
       "     ..\n",
       "95    1\n",
       "96    0\n",
       "97    0\n",
       "98    1\n",
       "99    0\n",
       "Name: smokes, Length: 99, dtype: int64"
      ]
     },
     "execution_count": 10,
     "metadata": {},
     "output_type": "execute_result"
    }
   ],
   "source": [
    "y_train[1:100]"
   ]
  },
  {
   "cell_type": "code",
   "execution_count": 11,
   "metadata": {
    "colab": {
     "base_uri": "https://localhost:8080/"
    },
    "id": "r1oe5vbcuVKb",
    "outputId": "9e5ea13b-2a60-4c2a-a63f-ddc13d6aaded"
   },
   "outputs": [
    {
     "name": "stderr",
     "output_type": "stream",
     "text": [
      "100%|████████████████████████████████████████████████████████████████████████████████| 100/100 [00:22<00:00,  4.39it/s]"
     ]
    },
    {
     "name": "stdout",
     "output_type": "stream",
     "text": [
      "5 attributes confirmed important: ['friends__small', 'class_ city less than 20 thou.', 'income__2nd_quantile', 'hedonism__yes', 'weight__overweight']\n",
      "29 attributes confirmed unimportant: ['unstable_income__yes', 'education_level__middle', 'class_ village', 'education_level__Primary', 'strenuous_work__yes', 'income__3rd_quantile', 'unfair_work__yes', 'doing_sports__yes', 'goes_to_restaurant__yes', 'martial_status__single', 'class_ city more than 500 thou.', 'too_much_alkohol__yes', 'income__4th_quantile', 'class_ city 200-500 thou.', 'sex_male', 'age__between_40_60', 'goes_to_cinema__yes', 'income_stressful__yes', 'age__below_40', 'friends__medium', 'drugs__yes', 'weight__underweight', 'class_ city 20-100 thou.', 'martial_status__married', 'job__yes', 'law_breaking__yes', 'goes_to_church__yes', 'weight_obesity', 'overloaded_at_work__yes']\n",
      "0 tentative attributes remains: []\n"
     ]
    },
    {
     "name": "stderr",
     "output_type": "stream",
     "text": [
      "\n"
     ]
    }
   ],
   "source": [
    "Feature_Selector.fit(X=X_train.iloc[1:100,:], \n",
    "                     y=y_train[1:100], \n",
    "                     n_trials=100, \n",
    "                     sample=False,\n",
    "                     train_or_test = 'test', \n",
    "                     normalize=True,\n",
    "                     verbose=True)"
   ]
  },
  {
   "cell_type": "code",
   "execution_count": 12,
   "metadata": {
    "id": "rGGnYMGZwl3o"
   },
   "outputs": [
    {
     "data": {
      "image/png": "[encoded data removed]",
      "text/plain": [
       "<Figure size 864x576 with 1 Axes>"
      ]
     },
     "metadata": {
      "needs_background": "light"
     },
     "output_type": "display_data"
    }
   ],
   "source": [
    "Feature_Selector.plot(which_features='all')"
   ]
  },
  {
   "cell_type": "code",
   "execution_count": null,
   "metadata": {
    "id": "99OHRGJawyho"
   },
   "outputs": [],
   "source": []
  },
  {
   "cell_type": "code",
   "execution_count": 11,
   "metadata": {
    "id": "TKIfTI3-wylR"
   },
   "outputs": [],
   "source": [
    "from xgboost import XGBClassifier"
   ]
  },
  {
   "cell_type": "code",
   "execution_count": 12,
   "metadata": {
    "id": "IPfCCWe7wyus"
   },
   "outputs": [],
   "source": [
    "model = XGBClassifier(max_depth = 5,learning_rate=0.01)\n",
    "\n",
    "# if classification is False it is a Regression problem\n",
    "Feature_Selector = BorutaShap(model=model,\n",
    "                              importance_measure='shap',\n",
    "                              classification=True)"
   ]
  },
  {
   "cell_type": "code",
   "execution_count": 13,
   "metadata": {},
   "outputs": [
    {
     "name": "stderr",
     "output_type": "stream",
     "text": [
      "\r",
      "  0%|                                                                                          | 0/100 [00:00<?, ?it/s]"
     ]
    },
    {
     "name": "stdout",
     "output_type": "stream",
     "text": [
      "[19:22:52] WARNING: C:/Users/Administrator/workspace/xgboost-win64_release_1.4.0/src/learner.cc:1095: Starting in XGBoost 1.3.0, the default evaluation metric used with the objective 'binary:logistic' was changed from 'error' to 'logloss'. Explicitly set eval_metric if you'd like to restore the old behavior.\n"
     ]
    },
    {
     "name": "stderr",
     "output_type": "stream",
     "text": [
      "\r",
      "  1%|▊                                                                                 | 1/100 [00:03<06:05,  3.69s/it]"
     ]
    },
    {
     "name": "stdout",
     "output_type": "stream",
     "text": [
      "[19:22:54] WARNING: C:/Users/Administrator/workspace/xgboost-win64_release_1.4.0/src/learner.cc:1095: Starting in XGBoost 1.3.0, the default evaluation metric used with the objective 'binary:logistic' was changed from 'error' to 'logloss'. Explicitly set eval_metric if you'd like to restore the old behavior.\n"
     ]
    },
    {
     "name": "stderr",
     "output_type": "stream",
     "text": [
      "\r",
      "  2%|█▋                                                                                | 2/100 [00:06<04:54,  3.00s/it]"
     ]
    },
    {
     "name": "stdout",
     "output_type": "stream",
     "text": [
      "[19:22:57] WARNING: C:/Users/Administrator/workspace/xgboost-win64_release_1.4.0/src/learner.cc:1095: Starting in XGBoost 1.3.0, the default evaluation metric used with the objective 'binary:logistic' was changed from 'error' to 'logloss'. Explicitly set eval_metric if you'd like to restore the old behavior.\n"
     ]
    },
    {
     "name": "stderr",
     "output_type": "stream",
     "text": [
      "\r",
      "  3%|██▍                                                                               | 3/100 [00:08<04:29,  2.78s/it]"
     ]
    },
    {
     "name": "stdout",
     "output_type": "stream",
     "text": [
      "[19:22:59] WARNING: C:/Users/Administrator/workspace/xgboost-win64_release_1.4.0/src/learner.cc:1095: Starting in XGBoost 1.3.0, the default evaluation metric used with the objective 'binary:logistic' was changed from 'error' to 'logloss'. Explicitly set eval_metric if you'd like to restore the old behavior.\n"
     ]
    },
    {
     "name": "stderr",
     "output_type": "stream",
     "text": [
      "\r",
      "  4%|███▎                                                                              | 4/100 [00:11<04:24,  2.76s/it]"
     ]
    },
    {
     "name": "stdout",
     "output_type": "stream",
     "text": [
      "[19:23:02] WARNING: C:/Users/Administrator/workspace/xgboost-win64_release_1.4.0/src/learner.cc:1095: Starting in XGBoost 1.3.0, the default evaluation metric used with the objective 'binary:logistic' was changed from 'error' to 'logloss'. Explicitly set eval_metric if you'd like to restore the old behavior.\n"
     ]
    },
    {
     "name": "stderr",
     "output_type": "stream",
     "text": [
      "\r",
      "  5%|████                                                                              | 5/100 [00:14<04:33,  2.88s/it]"
     ]
    },
    {
     "name": "stdout",
     "output_type": "stream",
     "text": [
      "[19:23:05] WARNING: C:/Users/Administrator/workspace/xgboost-win64_release_1.4.0/src/learner.cc:1095: Starting in XGBoost 1.3.0, the default evaluation metric used with the objective 'binary:logistic' was changed from 'error' to 'logloss'. Explicitly set eval_metric if you'd like to restore the old behavior.\n"
     ]
    },
    {
     "name": "stderr",
     "output_type": "stream",
     "text": [
      "\r",
      "  6%|████▉                                                                             | 6/100 [00:17<04:17,  2.74s/it]"
     ]
    },
    {
     "name": "stdout",
     "output_type": "stream",
     "text": [
      "[19:23:07] WARNING: C:/Users/Administrator/workspace/xgboost-win64_release_1.4.0/src/learner.cc:1095: Starting in XGBoost 1.3.0, the default evaluation metric used with the objective 'binary:logistic' was changed from 'error' to 'logloss'. Explicitly set eval_metric if you'd like to restore the old behavior.\n"
     ]
    },
    {
     "name": "stderr",
     "output_type": "stream",
     "text": [
      "\r",
      "  7%|█████▋                                                                            | 7/100 [00:19<04:05,  2.64s/it]"
     ]
    },
    {
     "name": "stdout",
     "output_type": "stream",
     "text": [
      "[19:23:10] WARNING: C:/Users/Administrator/workspace/xgboost-win64_release_1.4.0/src/learner.cc:1095: Starting in XGBoost 1.3.0, the default evaluation metric used with the objective 'binary:logistic' was changed from 'error' to 'logloss'. Explicitly set eval_metric if you'd like to restore the old behavior.\n"
     ]
    },
    {
     "name": "stderr",
     "output_type": "stream",
     "text": [
      "\r",
      "  8%|██████▌                                                                           | 8/100 [00:21<03:55,  2.56s/it]"
     ]
    },
    {
     "name": "stdout",
     "output_type": "stream",
     "text": [
      "[19:23:12] WARNING: C:/Users/Administrator/workspace/xgboost-win64_release_1.4.0/src/learner.cc:1095: Starting in XGBoost 1.3.0, the default evaluation metric used with the objective 'binary:logistic' was changed from 'error' to 'logloss'. Explicitly set eval_metric if you'd like to restore the old behavior.\n"
     ]
    },
    {
     "name": "stderr",
     "output_type": "stream",
     "text": [
      "\r",
      "  9%|███████▍                                                                          | 9/100 [00:24<04:03,  2.67s/it]"
     ]
    },
    {
     "name": "stdout",
     "output_type": "stream",
     "text": [
      "[19:23:15] WARNING: C:/Users/Administrator/workspace/xgboost-win64_release_1.4.0/src/learner.cc:1095: Starting in XGBoost 1.3.0, the default evaluation metric used with the objective 'binary:logistic' was changed from 'error' to 'logloss'. Explicitly set eval_metric if you'd like to restore the old behavior.\n"
     ]
    },
    {
     "name": "stderr",
     "output_type": "stream",
     "text": [
      "\r",
      " 10%|████████                                                                         | 10/100 [00:27<03:54,  2.60s/it]"
     ]
    },
    {
     "name": "stdout",
     "output_type": "stream",
     "text": [
      "[19:23:18] WARNING: C:/Users/Administrator/workspace/xgboost-win64_release_1.4.0/src/learner.cc:1095: Starting in XGBoost 1.3.0, the default evaluation metric used with the objective 'binary:logistic' was changed from 'error' to 'logloss'. Explicitly set eval_metric if you'd like to restore the old behavior.\n"
     ]
    },
    {
     "name": "stderr",
     "output_type": "stream",
     "text": [
      "\r",
      " 11%|████████▉                                                                        | 11/100 [00:29<03:49,  2.58s/it]"
     ]
    },
    {
     "name": "stdout",
     "output_type": "stream",
     "text": [
      "[19:23:20] WARNING: C:/Users/Administrator/workspace/xgboost-win64_release_1.4.0/src/learner.cc:1095: Starting in XGBoost 1.3.0, the default evaluation metric used with the objective 'binary:logistic' was changed from 'error' to 'logloss'. Explicitly set eval_metric if you'd like to restore the old behavior.\n"
     ]
    },
    {
     "name": "stderr",
     "output_type": "stream",
     "text": [
      "\r",
      " 12%|█████████▋                                                                       | 12/100 [00:32<03:41,  2.51s/it]"
     ]
    },
    {
     "name": "stdout",
     "output_type": "stream",
     "text": [
      "[19:23:22] WARNING: C:/Users/Administrator/workspace/xgboost-win64_release_1.4.0/src/learner.cc:1095: Starting in XGBoost 1.3.0, the default evaluation metric used with the objective 'binary:logistic' was changed from 'error' to 'logloss'. Explicitly set eval_metric if you'd like to restore the old behavior.\n"
     ]
    },
    {
     "name": "stderr",
     "output_type": "stream",
     "text": [
      "\r",
      " 13%|██████████▌                                                                      | 13/100 [00:34<03:44,  2.58s/it]"
     ]
    },
    {
     "name": "stdout",
     "output_type": "stream",
     "text": [
      "[19:23:25] WARNING: C:/Users/Administrator/workspace/xgboost-win64_release_1.4.0/src/learner.cc:1095: Starting in XGBoost 1.3.0, the default evaluation metric used with the objective 'binary:logistic' was changed from 'error' to 'logloss'. Explicitly set eval_metric if you'd like to restore the old behavior.\n"
     ]
    },
    {
     "name": "stderr",
     "output_type": "stream",
     "text": [
      "\r",
      " 14%|███████████▎                                                                     | 14/100 [00:37<03:40,  2.56s/it]"
     ]
    },
    {
     "name": "stdout",
     "output_type": "stream",
     "text": [
      "[19:23:28] WARNING: C:/Users/Administrator/workspace/xgboost-win64_release_1.4.0/src/learner.cc:1095: Starting in XGBoost 1.3.0, the default evaluation metric used with the objective 'binary:logistic' was changed from 'error' to 'logloss'. Explicitly set eval_metric if you'd like to restore the old behavior.\n"
     ]
    },
    {
     "name": "stderr",
     "output_type": "stream",
     "text": [
      "\r",
      " 15%|████████████▏                                                                    | 15/100 [00:40<03:55,  2.77s/it]"
     ]
    },
    {
     "name": "stdout",
     "output_type": "stream",
     "text": [
      "[19:23:31] WARNING: C:/Users/Administrator/workspace/xgboost-win64_release_1.4.0/src/learner.cc:1095: Starting in XGBoost 1.3.0, the default evaluation metric used with the objective 'binary:logistic' was changed from 'error' to 'logloss'. Explicitly set eval_metric if you'd like to restore the old behavior.\n"
     ]
    },
    {
     "name": "stderr",
     "output_type": "stream",
     "text": [
      "\r",
      " 16%|████████████▉                                                                    | 16/100 [00:43<03:54,  2.79s/it]"
     ]
    },
    {
     "name": "stdout",
     "output_type": "stream",
     "text": [
      "[19:23:34] WARNING: C:/Users/Administrator/workspace/xgboost-win64_release_1.4.0/src/learner.cc:1095: Starting in XGBoost 1.3.0, the default evaluation metric used with the objective 'binary:logistic' was changed from 'error' to 'logloss'. Explicitly set eval_metric if you'd like to restore the old behavior.\n"
     ]
    },
    {
     "name": "stderr",
     "output_type": "stream",
     "text": [
      "\r",
      " 17%|█████████████▊                                                                   | 17/100 [00:46<03:59,  2.89s/it]"
     ]
    },
    {
     "name": "stdout",
     "output_type": "stream",
     "text": [
      "[19:23:37] WARNING: C:/Users/Administrator/workspace/xgboost-win64_release_1.4.0/src/learner.cc:1095: Starting in XGBoost 1.3.0, the default evaluation metric used with the objective 'binary:logistic' was changed from 'error' to 'logloss'. Explicitly set eval_metric if you'd like to restore the old behavior.\n"
     ]
    },
    {
     "name": "stderr",
     "output_type": "stream",
     "text": [
      "\r",
      " 18%|██████████████▌                                                                  | 18/100 [00:49<03:54,  2.85s/it]"
     ]
    },
    {
     "name": "stdout",
     "output_type": "stream",
     "text": [
      "[19:23:40] WARNING: C:/Users/Administrator/workspace/xgboost-win64_release_1.4.0/src/learner.cc:1095: Starting in XGBoost 1.3.0, the default evaluation metric used with the objective 'binary:logistic' was changed from 'error' to 'logloss'. Explicitly set eval_metric if you'd like to restore the old behavior.\n"
     ]
    },
    {
     "name": "stderr",
     "output_type": "stream",
     "text": [
      "\r",
      " 19%|███████████████▍                                                                 | 19/100 [00:51<03:42,  2.74s/it]"
     ]
    },
    {
     "name": "stdout",
     "output_type": "stream",
     "text": [
      "[19:23:42] WARNING: C:/Users/Administrator/workspace/xgboost-win64_release_1.4.0/src/learner.cc:1095: Starting in XGBoost 1.3.0, the default evaluation metric used with the objective 'binary:logistic' was changed from 'error' to 'logloss'. Explicitly set eval_metric if you'd like to restore the old behavior.\n"
     ]
    },
    {
     "name": "stderr",
     "output_type": "stream",
     "text": [
      "\r",
      " 20%|████████████████▏                                                                | 20/100 [00:54<03:30,  2.63s/it]"
     ]
    },
    {
     "name": "stdout",
     "output_type": "stream",
     "text": [
      "[19:23:45] WARNING: C:/Users/Administrator/workspace/xgboost-win64_release_1.4.0/src/learner.cc:1095: Starting in XGBoost 1.3.0, the default evaluation metric used with the objective 'binary:logistic' was changed from 'error' to 'logloss'. Explicitly set eval_metric if you'd like to restore the old behavior.\n"
     ]
    },
    {
     "name": "stderr",
     "output_type": "stream",
     "text": [
      "\r",
      " 21%|█████████████████                                                                | 21/100 [00:56<03:27,  2.62s/it]"
     ]
    },
    {
     "name": "stdout",
     "output_type": "stream",
     "text": [
      "[19:23:47] WARNING: C:/Users/Administrator/workspace/xgboost-win64_release_1.4.0/src/learner.cc:1095: Starting in XGBoost 1.3.0, the default evaluation metric used with the objective 'binary:logistic' was changed from 'error' to 'logloss'. Explicitly set eval_metric if you'd like to restore the old behavior.\n"
     ]
    },
    {
     "name": "stderr",
     "output_type": "stream",
     "text": [
      "\r",
      " 22%|█████████████████▊                                                               | 22/100 [00:59<03:19,  2.56s/it]"
     ]
    },
    {
     "name": "stdout",
     "output_type": "stream",
     "text": [
      "[19:23:50] WARNING: C:/Users/Administrator/workspace/xgboost-win64_release_1.4.0/src/learner.cc:1095: Starting in XGBoost 1.3.0, the default evaluation metric used with the objective 'binary:logistic' was changed from 'error' to 'logloss'. Explicitly set eval_metric if you'd like to restore the old behavior.\n"
     ]
    },
    {
     "name": "stderr",
     "output_type": "stream",
     "text": [
      "\r",
      " 23%|██████████████████▋                                                              | 23/100 [01:02<03:23,  2.65s/it]"
     ]
    },
    {
     "name": "stdout",
     "output_type": "stream",
     "text": [
      "[19:23:52] WARNING: C:/Users/Administrator/workspace/xgboost-win64_release_1.4.0/src/learner.cc:1095: Starting in XGBoost 1.3.0, the default evaluation metric used with the objective 'binary:logistic' was changed from 'error' to 'logloss'. Explicitly set eval_metric if you'd like to restore the old behavior.\n"
     ]
    },
    {
     "name": "stderr",
     "output_type": "stream",
     "text": [
      "\r",
      " 24%|███████████████████▍                                                             | 24/100 [01:04<03:23,  2.68s/it]"
     ]
    },
    {
     "name": "stdout",
     "output_type": "stream",
     "text": [
      "[19:23:55] WARNING: C:/Users/Administrator/workspace/xgboost-win64_release_1.4.0/src/learner.cc:1095: Starting in XGBoost 1.3.0, the default evaluation metric used with the objective 'binary:logistic' was changed from 'error' to 'logloss'. Explicitly set eval_metric if you'd like to restore the old behavior.\n"
     ]
    },
    {
     "name": "stderr",
     "output_type": "stream",
     "text": [
      "\r",
      " 25%|████████████████████▎                                                            | 25/100 [01:07<03:22,  2.71s/it]"
     ]
    },
    {
     "name": "stdout",
     "output_type": "stream",
     "text": [
      "[19:23:58] WARNING: C:/Users/Administrator/workspace/xgboost-win64_release_1.4.0/src/learner.cc:1095: Starting in XGBoost 1.3.0, the default evaluation metric used with the objective 'binary:logistic' was changed from 'error' to 'logloss'. Explicitly set eval_metric if you'd like to restore the old behavior.\n"
     ]
    },
    {
     "name": "stderr",
     "output_type": "stream",
     "text": [
      "\r",
      " 26%|█████████████████████                                                            | 26/100 [01:10<03:25,  2.77s/it]"
     ]
    },
    {
     "name": "stdout",
     "output_type": "stream",
     "text": [
      "[19:24:01] WARNING: C:/Users/Administrator/workspace/xgboost-win64_release_1.4.0/src/learner.cc:1095: Starting in XGBoost 1.3.0, the default evaluation metric used with the objective 'binary:logistic' was changed from 'error' to 'logloss'. Explicitly set eval_metric if you'd like to restore the old behavior.\n"
     ]
    },
    {
     "name": "stderr",
     "output_type": "stream",
     "text": [
      "\r",
      " 27%|█████████████████████▊                                                           | 27/100 [01:13<03:29,  2.87s/it]"
     ]
    },
    {
     "name": "stdout",
     "output_type": "stream",
     "text": [
      "[19:24:04] WARNING: C:/Users/Administrator/workspace/xgboost-win64_release_1.4.0/src/learner.cc:1095: Starting in XGBoost 1.3.0, the default evaluation metric used with the objective 'binary:logistic' was changed from 'error' to 'logloss'. Explicitly set eval_metric if you'd like to restore the old behavior.\n"
     ]
    },
    {
     "name": "stderr",
     "output_type": "stream",
     "text": [
      "\r",
      " 28%|██████████████████████▋                                                          | 28/100 [01:16<03:20,  2.78s/it]"
     ]
    },
    {
     "name": "stdout",
     "output_type": "stream",
     "text": [
      "[19:24:07] WARNING: C:/Users/Administrator/workspace/xgboost-win64_release_1.4.0/src/learner.cc:1095: Starting in XGBoost 1.3.0, the default evaluation metric used with the objective 'binary:logistic' was changed from 'error' to 'logloss'. Explicitly set eval_metric if you'd like to restore the old behavior.\n"
     ]
    },
    {
     "name": "stderr",
     "output_type": "stream",
     "text": [
      "\r",
      " 29%|███████████████████████▍                                                         | 29/100 [01:18<03:09,  2.67s/it]"
     ]
    },
    {
     "name": "stdout",
     "output_type": "stream",
     "text": [
      "[19:24:09] WARNING: C:/Users/Administrator/workspace/xgboost-win64_release_1.4.0/src/learner.cc:1095: Starting in XGBoost 1.3.0, the default evaluation metric used with the objective 'binary:logistic' was changed from 'error' to 'logloss'. Explicitly set eval_metric if you'd like to restore the old behavior.\n"
     ]
    },
    {
     "name": "stderr",
     "output_type": "stream",
     "text": [
      "\r",
      " 30%|████████████████████████▎                                                        | 30/100 [01:21<03:08,  2.69s/it]"
     ]
    },
    {
     "name": "stdout",
     "output_type": "stream",
     "text": [
      "[19:24:12] WARNING: C:/Users/Administrator/workspace/xgboost-win64_release_1.4.0/src/learner.cc:1095: Starting in XGBoost 1.3.0, the default evaluation metric used with the objective 'binary:logistic' was changed from 'error' to 'logloss'. Explicitly set eval_metric if you'd like to restore the old behavior.\n"
     ]
    },
    {
     "name": "stderr",
     "output_type": "stream",
     "text": [
      "\r",
      " 31%|█████████████████████████                                                        | 31/100 [01:24<03:11,  2.77s/it]"
     ]
    },
    {
     "name": "stdout",
     "output_type": "stream",
     "text": [
      "[19:24:15] WARNING: C:/Users/Administrator/workspace/xgboost-win64_release_1.4.0/src/learner.cc:1095: Starting in XGBoost 1.3.0, the default evaluation metric used with the objective 'binary:logistic' was changed from 'error' to 'logloss'. Explicitly set eval_metric if you'd like to restore the old behavior.\n"
     ]
    },
    {
     "name": "stderr",
     "output_type": "stream",
     "text": [
      "\r",
      " 32%|█████████████████████████▉                                                       | 32/100 [01:27<03:11,  2.81s/it]"
     ]
    },
    {
     "name": "stdout",
     "output_type": "stream",
     "text": [
      "[19:24:18] WARNING: C:/Users/Administrator/workspace/xgboost-win64_release_1.4.0/src/learner.cc:1095: Starting in XGBoost 1.3.0, the default evaluation metric used with the objective 'binary:logistic' was changed from 'error' to 'logloss'. Explicitly set eval_metric if you'd like to restore the old behavior.\n"
     ]
    },
    {
     "name": "stderr",
     "output_type": "stream",
     "text": [
      "\r",
      " 33%|██████████████████████████▋                                                      | 33/100 [01:30<03:08,  2.82s/it]"
     ]
    },
    {
     "name": "stdout",
     "output_type": "stream",
     "text": [
      "[19:24:20] WARNING: C:/Users/Administrator/workspace/xgboost-win64_release_1.4.0/src/learner.cc:1095: Starting in XGBoost 1.3.0, the default evaluation metric used with the objective 'binary:logistic' was changed from 'error' to 'logloss'. Explicitly set eval_metric if you'd like to restore the old behavior.\n"
     ]
    },
    {
     "name": "stderr",
     "output_type": "stream",
     "text": [
      "\r",
      " 34%|███████████████████████████▌                                                     | 34/100 [01:32<03:03,  2.78s/it]"
     ]
    },
    {
     "name": "stdout",
     "output_type": "stream",
     "text": [
      "[19:24:23] WARNING: C:/Users/Administrator/workspace/xgboost-win64_release_1.4.0/src/learner.cc:1095: Starting in XGBoost 1.3.0, the default evaluation metric used with the objective 'binary:logistic' was changed from 'error' to 'logloss'. Explicitly set eval_metric if you'd like to restore the old behavior.\n"
     ]
    },
    {
     "name": "stderr",
     "output_type": "stream",
     "text": [
      "\r",
      " 35%|████████████████████████████▎                                                    | 35/100 [01:35<03:05,  2.85s/it]"
     ]
    },
    {
     "name": "stdout",
     "output_type": "stream",
     "text": [
      "[19:24:26] WARNING: C:/Users/Administrator/workspace/xgboost-win64_release_1.4.0/src/learner.cc:1095: Starting in XGBoost 1.3.0, the default evaluation metric used with the objective 'binary:logistic' was changed from 'error' to 'logloss'. Explicitly set eval_metric if you'd like to restore the old behavior.\n"
     ]
    },
    {
     "name": "stderr",
     "output_type": "stream",
     "text": [
      "\r",
      " 36%|█████████████████████████████▏                                                   | 36/100 [01:38<02:58,  2.79s/it]"
     ]
    },
    {
     "name": "stdout",
     "output_type": "stream",
     "text": [
      "[19:24:29] WARNING: C:/Users/Administrator/workspace/xgboost-win64_release_1.4.0/src/learner.cc:1095: Starting in XGBoost 1.3.0, the default evaluation metric used with the objective 'binary:logistic' was changed from 'error' to 'logloss'. Explicitly set eval_metric if you'd like to restore the old behavior.\n"
     ]
    },
    {
     "name": "stderr",
     "output_type": "stream",
     "text": [
      "\r",
      " 37%|█████████████████████████████▉                                                   | 37/100 [01:40<02:47,  2.66s/it]"
     ]
    },
    {
     "name": "stdout",
     "output_type": "stream",
     "text": [
      "[19:24:31] WARNING: C:/Users/Administrator/workspace/xgboost-win64_release_1.4.0/src/learner.cc:1095: Starting in XGBoost 1.3.0, the default evaluation metric used with the objective 'binary:logistic' was changed from 'error' to 'logloss'. Explicitly set eval_metric if you'd like to restore the old behavior.\n"
     ]
    },
    {
     "name": "stderr",
     "output_type": "stream",
     "text": [
      "\r",
      " 38%|██████████████████████████████▊                                                  | 38/100 [01:43<02:45,  2.67s/it]"
     ]
    },
    {
     "name": "stdout",
     "output_type": "stream",
     "text": [
      "[19:24:34] WARNING: C:/Users/Administrator/workspace/xgboost-win64_release_1.4.0/src/learner.cc:1095: Starting in XGBoost 1.3.0, the default evaluation metric used with the objective 'binary:logistic' was changed from 'error' to 'logloss'. Explicitly set eval_metric if you'd like to restore the old behavior.\n"
     ]
    },
    {
     "name": "stderr",
     "output_type": "stream",
     "text": [
      "\r",
      " 39%|███████████████████████████████▌                                                 | 39/100 [01:46<02:51,  2.81s/it]"
     ]
    },
    {
     "name": "stdout",
     "output_type": "stream",
     "text": [
      "[19:24:37] WARNING: C:/Users/Administrator/workspace/xgboost-win64_release_1.4.0/src/learner.cc:1095: Starting in XGBoost 1.3.0, the default evaluation metric used with the objective 'binary:logistic' was changed from 'error' to 'logloss'. Explicitly set eval_metric if you'd like to restore the old behavior.\n"
     ]
    },
    {
     "name": "stderr",
     "output_type": "stream",
     "text": [
      "\r",
      " 40%|████████████████████████████████▍                                                | 40/100 [01:49<02:52,  2.88s/it]"
     ]
    },
    {
     "name": "stdout",
     "output_type": "stream",
     "text": [
      "[19:24:40] WARNING: C:/Users/Administrator/workspace/xgboost-win64_release_1.4.0/src/learner.cc:1095: Starting in XGBoost 1.3.0, the default evaluation metric used with the objective 'binary:logistic' was changed from 'error' to 'logloss'. Explicitly set eval_metric if you'd like to restore the old behavior.\n"
     ]
    },
    {
     "name": "stderr",
     "output_type": "stream",
     "text": [
      "\r",
      " 41%|█████████████████████████████████▏                                               | 41/100 [01:52<02:45,  2.81s/it]"
     ]
    },
    {
     "name": "stdout",
     "output_type": "stream",
     "text": [
      "[19:24:43] WARNING: C:/Users/Administrator/workspace/xgboost-win64_release_1.4.0/src/learner.cc:1095: Starting in XGBoost 1.3.0, the default evaluation metric used with the objective 'binary:logistic' was changed from 'error' to 'logloss'. Explicitly set eval_metric if you'd like to restore the old behavior.\n"
     ]
    },
    {
     "name": "stderr",
     "output_type": "stream",
     "text": [
      "\r",
      " 42%|██████████████████████████████████                                               | 42/100 [01:54<02:34,  2.66s/it]"
     ]
    },
    {
     "name": "stdout",
     "output_type": "stream",
     "text": [
      "[19:24:45] WARNING: C:/Users/Administrator/workspace/xgboost-win64_release_1.4.0/src/learner.cc:1095: Starting in XGBoost 1.3.0, the default evaluation metric used with the objective 'binary:logistic' was changed from 'error' to 'logloss'. Explicitly set eval_metric if you'd like to restore the old behavior.\n"
     ]
    },
    {
     "name": "stderr",
     "output_type": "stream",
     "text": [
      "\r",
      " 43%|██████████████████████████████████▊                                              | 43/100 [01:57<02:34,  2.70s/it]"
     ]
    },
    {
     "name": "stdout",
     "output_type": "stream",
     "text": [
      "[19:24:48] WARNING: C:/Users/Administrator/workspace/xgboost-win64_release_1.4.0/src/learner.cc:1095: Starting in XGBoost 1.3.0, the default evaluation metric used with the objective 'binary:logistic' was changed from 'error' to 'logloss'. Explicitly set eval_metric if you'd like to restore the old behavior.\n"
     ]
    },
    {
     "name": "stderr",
     "output_type": "stream",
     "text": [
      "\r",
      " 44%|███████████████████████████████████▋                                             | 44/100 [02:00<02:38,  2.83s/it]"
     ]
    },
    {
     "name": "stdout",
     "output_type": "stream",
     "text": [
      "[19:24:51] WARNING: C:/Users/Administrator/workspace/xgboost-win64_release_1.4.0/src/learner.cc:1095: Starting in XGBoost 1.3.0, the default evaluation metric used with the objective 'binary:logistic' was changed from 'error' to 'logloss'. Explicitly set eval_metric if you'd like to restore the old behavior.\n"
     ]
    },
    {
     "name": "stderr",
     "output_type": "stream",
     "text": [
      "\r",
      " 45%|████████████████████████████████████▍                                            | 45/100 [02:03<02:39,  2.90s/it]"
     ]
    },
    {
     "name": "stdout",
     "output_type": "stream",
     "text": [
      "[19:24:54] WARNING: C:/Users/Administrator/workspace/xgboost-win64_release_1.4.0/src/learner.cc:1095: Starting in XGBoost 1.3.0, the default evaluation metric used with the objective 'binary:logistic' was changed from 'error' to 'logloss'. Explicitly set eval_metric if you'd like to restore the old behavior.\n"
     ]
    },
    {
     "name": "stderr",
     "output_type": "stream",
     "text": [
      "\r",
      " 46%|█████████████████████████████████████▎                                           | 46/100 [02:06<02:35,  2.89s/it]"
     ]
    },
    {
     "name": "stdout",
     "output_type": "stream",
     "text": [
      "[19:24:57] WARNING: C:/Users/Administrator/workspace/xgboost-win64_release_1.4.0/src/learner.cc:1095: Starting in XGBoost 1.3.0, the default evaluation metric used with the objective 'binary:logistic' was changed from 'error' to 'logloss'. Explicitly set eval_metric if you'd like to restore the old behavior.\n"
     ]
    },
    {
     "name": "stderr",
     "output_type": "stream",
     "text": [
      "\r",
      " 47%|██████████████████████████████████████                                           | 47/100 [02:09<02:36,  2.95s/it]"
     ]
    },
    {
     "name": "stdout",
     "output_type": "stream",
     "text": [
      "[19:25:00] WARNING: C:/Users/Administrator/workspace/xgboost-win64_release_1.4.0/src/learner.cc:1095: Starting in XGBoost 1.3.0, the default evaluation metric used with the objective 'binary:logistic' was changed from 'error' to 'logloss'. Explicitly set eval_metric if you'd like to restore the old behavior.\n"
     ]
    },
    {
     "name": "stderr",
     "output_type": "stream",
     "text": [
      "\r",
      " 48%|██████████████████████████████████████▉                                          | 48/100 [02:12<02:28,  2.86s/it]"
     ]
    },
    {
     "name": "stdout",
     "output_type": "stream",
     "text": [
      "[19:25:03] WARNING: C:/Users/Administrator/workspace/xgboost-win64_release_1.4.0/src/learner.cc:1095: Starting in XGBoost 1.3.0, the default evaluation metric used with the objective 'binary:logistic' was changed from 'error' to 'logloss'. Explicitly set eval_metric if you'd like to restore the old behavior.\n"
     ]
    },
    {
     "name": "stderr",
     "output_type": "stream",
     "text": [
      "\r",
      " 49%|███████████████████████████████████████▋                                         | 49/100 [02:14<02:22,  2.79s/it]"
     ]
    },
    {
     "name": "stdout",
     "output_type": "stream",
     "text": [
      "[19:25:05] WARNING: C:/Users/Administrator/workspace/xgboost-win64_release_1.4.0/src/learner.cc:1095: Starting in XGBoost 1.3.0, the default evaluation metric used with the objective 'binary:logistic' was changed from 'error' to 'logloss'. Explicitly set eval_metric if you'd like to restore the old behavior.\n"
     ]
    },
    {
     "name": "stderr",
     "output_type": "stream",
     "text": [
      "\r",
      " 50%|████████████████████████████████████████▌                                        | 50/100 [02:18<02:29,  3.00s/it]"
     ]
    },
    {
     "name": "stdout",
     "output_type": "stream",
     "text": [
      "[19:25:09] WARNING: C:/Users/Administrator/workspace/xgboost-win64_release_1.4.0/src/learner.cc:1095: Starting in XGBoost 1.3.0, the default evaluation metric used with the objective 'binary:logistic' was changed from 'error' to 'logloss'. Explicitly set eval_metric if you'd like to restore the old behavior.\n"
     ]
    },
    {
     "name": "stderr",
     "output_type": "stream",
     "text": [
      "\r",
      " 51%|█████████████████████████████████████████▎                                       | 51/100 [02:20<02:22,  2.91s/it]"
     ]
    },
    {
     "name": "stdout",
     "output_type": "stream",
     "text": [
      "[19:25:11] WARNING: C:/Users/Administrator/workspace/xgboost-win64_release_1.4.0/src/learner.cc:1095: Starting in XGBoost 1.3.0, the default evaluation metric used with the objective 'binary:logistic' was changed from 'error' to 'logloss'. Explicitly set eval_metric if you'd like to restore the old behavior.\n"
     ]
    },
    {
     "name": "stderr",
     "output_type": "stream",
     "text": [
      "\r",
      " 52%|██████████████████████████████████████████                                       | 52/100 [02:23<02:17,  2.86s/it]"
     ]
    },
    {
     "name": "stdout",
     "output_type": "stream",
     "text": [
      "[19:25:14] WARNING: C:/Users/Administrator/workspace/xgboost-win64_release_1.4.0/src/learner.cc:1095: Starting in XGBoost 1.3.0, the default evaluation metric used with the objective 'binary:logistic' was changed from 'error' to 'logloss'. Explicitly set eval_metric if you'd like to restore the old behavior.\n"
     ]
    },
    {
     "name": "stderr",
     "output_type": "stream",
     "text": [
      "\r",
      " 53%|██████████████████████████████████████████▉                                      | 53/100 [02:26<02:16,  2.90s/it]"
     ]
    },
    {
     "name": "stdout",
     "output_type": "stream",
     "text": [
      "[19:25:17] WARNING: C:/Users/Administrator/workspace/xgboost-win64_release_1.4.0/src/learner.cc:1095: Starting in XGBoost 1.3.0, the default evaluation metric used with the objective 'binary:logistic' was changed from 'error' to 'logloss'. Explicitly set eval_metric if you'd like to restore the old behavior.\n"
     ]
    },
    {
     "name": "stderr",
     "output_type": "stream",
     "text": [
      "\r",
      " 54%|███████████████████████████████████████████▋                                     | 54/100 [02:29<02:12,  2.89s/it]"
     ]
    },
    {
     "name": "stdout",
     "output_type": "stream",
     "text": [
      "[19:25:20] WARNING: C:/Users/Administrator/workspace/xgboost-win64_release_1.4.0/src/learner.cc:1095: Starting in XGBoost 1.3.0, the default evaluation metric used with the objective 'binary:logistic' was changed from 'error' to 'logloss'. Explicitly set eval_metric if you'd like to restore the old behavior.\n"
     ]
    },
    {
     "name": "stderr",
     "output_type": "stream",
     "text": [
      "\r",
      " 55%|████████████████████████████████████████████▌                                    | 55/100 [02:32<02:14,  2.98s/it]"
     ]
    },
    {
     "name": "stdout",
     "output_type": "stream",
     "text": [
      "[19:25:23] WARNING: C:/Users/Administrator/workspace/xgboost-win64_release_1.4.0/src/learner.cc:1095: Starting in XGBoost 1.3.0, the default evaluation metric used with the objective 'binary:logistic' was changed from 'error' to 'logloss'. Explicitly set eval_metric if you'd like to restore the old behavior.\n"
     ]
    },
    {
     "name": "stderr",
     "output_type": "stream",
     "text": [
      "\r",
      " 56%|█████████████████████████████████████████████▎                                   | 56/100 [02:35<02:07,  2.89s/it]"
     ]
    },
    {
     "name": "stdout",
     "output_type": "stream",
     "text": [
      "[19:25:26] WARNING: C:/Users/Administrator/workspace/xgboost-win64_release_1.4.0/src/learner.cc:1095: Starting in XGBoost 1.3.0, the default evaluation metric used with the objective 'binary:logistic' was changed from 'error' to 'logloss'. Explicitly set eval_metric if you'd like to restore the old behavior.\n"
     ]
    },
    {
     "name": "stderr",
     "output_type": "stream",
     "text": [
      "\r",
      " 57%|██████████████████████████████████████████████▏                                  | 57/100 [02:38<02:02,  2.84s/it]"
     ]
    },
    {
     "name": "stdout",
     "output_type": "stream",
     "text": [
      "[19:25:29] WARNING: C:/Users/Administrator/workspace/xgboost-win64_release_1.4.0/src/learner.cc:1095: Starting in XGBoost 1.3.0, the default evaluation metric used with the objective 'binary:logistic' was changed from 'error' to 'logloss'. Explicitly set eval_metric if you'd like to restore the old behavior.\n"
     ]
    },
    {
     "name": "stderr",
     "output_type": "stream",
     "text": [
      "\r",
      " 58%|██████████████████████████████████████████████▉                                  | 58/100 [02:41<02:00,  2.87s/it]"
     ]
    },
    {
     "name": "stdout",
     "output_type": "stream",
     "text": [
      "[19:25:31] WARNING: C:/Users/Administrator/workspace/xgboost-win64_release_1.4.0/src/learner.cc:1095: Starting in XGBoost 1.3.0, the default evaluation metric used with the objective 'binary:logistic' was changed from 'error' to 'logloss'. Explicitly set eval_metric if you'd like to restore the old behavior.\n"
     ]
    },
    {
     "name": "stderr",
     "output_type": "stream",
     "text": [
      "\r",
      " 59%|███████████████████████████████████████████████▊                                 | 59/100 [02:43<01:57,  2.85s/it]"
     ]
    },
    {
     "name": "stdout",
     "output_type": "stream",
     "text": [
      "[19:25:34] WARNING: C:/Users/Administrator/workspace/xgboost-win64_release_1.4.0/src/learner.cc:1095: Starting in XGBoost 1.3.0, the default evaluation metric used with the objective 'binary:logistic' was changed from 'error' to 'logloss'. Explicitly set eval_metric if you'd like to restore the old behavior.\n"
     ]
    },
    {
     "name": "stderr",
     "output_type": "stream",
     "text": [
      "\r",
      " 60%|████████████████████████████████████████████████▌                                | 60/100 [02:46<01:53,  2.85s/it]"
     ]
    },
    {
     "name": "stdout",
     "output_type": "stream",
     "text": [
      "[19:25:37] WARNING: C:/Users/Administrator/workspace/xgboost-win64_release_1.4.0/src/learner.cc:1095: Starting in XGBoost 1.3.0, the default evaluation metric used with the objective 'binary:logistic' was changed from 'error' to 'logloss'. Explicitly set eval_metric if you'd like to restore the old behavior.\n"
     ]
    },
    {
     "name": "stderr",
     "output_type": "stream",
     "text": [
      "\r",
      " 61%|█████████████████████████████████████████████████▍                               | 61/100 [02:49<01:54,  2.93s/it]"
     ]
    },
    {
     "name": "stdout",
     "output_type": "stream",
     "text": [
      "[19:25:40] WARNING: C:/Users/Administrator/workspace/xgboost-win64_release_1.4.0/src/learner.cc:1095: Starting in XGBoost 1.3.0, the default evaluation metric used with the objective 'binary:logistic' was changed from 'error' to 'logloss'. Explicitly set eval_metric if you'd like to restore the old behavior.\n"
     ]
    },
    {
     "name": "stderr",
     "output_type": "stream",
     "text": [
      "\r",
      " 62%|██████████████████████████████████████████████████▏                              | 62/100 [02:52<01:47,  2.84s/it]"
     ]
    },
    {
     "name": "stdout",
     "output_type": "stream",
     "text": [
      "[19:25:43] WARNING: C:/Users/Administrator/workspace/xgboost-win64_release_1.4.0/src/learner.cc:1095: Starting in XGBoost 1.3.0, the default evaluation metric used with the objective 'binary:logistic' was changed from 'error' to 'logloss'. Explicitly set eval_metric if you'd like to restore the old behavior.\n"
     ]
    },
    {
     "name": "stderr",
     "output_type": "stream",
     "text": [
      "\r",
      " 63%|███████████████████████████████████████████████████                              | 63/100 [02:55<01:43,  2.80s/it]"
     ]
    },
    {
     "name": "stdout",
     "output_type": "stream",
     "text": [
      "[19:25:46] WARNING: C:/Users/Administrator/workspace/xgboost-win64_release_1.4.0/src/learner.cc:1095: Starting in XGBoost 1.3.0, the default evaluation metric used with the objective 'binary:logistic' was changed from 'error' to 'logloss'. Explicitly set eval_metric if you'd like to restore the old behavior.\n"
     ]
    },
    {
     "name": "stderr",
     "output_type": "stream",
     "text": [
      "\r",
      " 64%|███████████████████████████████████████████████████▊                             | 64/100 [02:58<01:44,  2.91s/it]"
     ]
    },
    {
     "name": "stdout",
     "output_type": "stream",
     "text": [
      "[19:25:49] WARNING: C:/Users/Administrator/workspace/xgboost-win64_release_1.4.0/src/learner.cc:1095: Starting in XGBoost 1.3.0, the default evaluation metric used with the objective 'binary:logistic' was changed from 'error' to 'logloss'. Explicitly set eval_metric if you'd like to restore the old behavior.\n"
     ]
    },
    {
     "name": "stderr",
     "output_type": "stream",
     "text": [
      "\r",
      " 65%|████████████████████████████████████████████████████▋                            | 65/100 [03:00<01:38,  2.83s/it]"
     ]
    },
    {
     "name": "stdout",
     "output_type": "stream",
     "text": [
      "[19:25:51] WARNING: C:/Users/Administrator/workspace/xgboost-win64_release_1.4.0/src/learner.cc:1095: Starting in XGBoost 1.3.0, the default evaluation metric used with the objective 'binary:logistic' was changed from 'error' to 'logloss'. Explicitly set eval_metric if you'd like to restore the old behavior.\n"
     ]
    },
    {
     "name": "stderr",
     "output_type": "stream",
     "text": [
      "\r",
      " 66%|█████████████████████████████████████████████████████▍                           | 66/100 [03:03<01:35,  2.82s/it]"
     ]
    },
    {
     "name": "stdout",
     "output_type": "stream",
     "text": [
      "[19:25:54] WARNING: C:/Users/Administrator/workspace/xgboost-win64_release_1.4.0/src/learner.cc:1095: Starting in XGBoost 1.3.0, the default evaluation metric used with the objective 'binary:logistic' was changed from 'error' to 'logloss'. Explicitly set eval_metric if you'd like to restore the old behavior.\n"
     ]
    },
    {
     "name": "stderr",
     "output_type": "stream",
     "text": [
      "\r",
      " 67%|██████████████████████████████████████████████████████▎                          | 67/100 [03:06<01:34,  2.85s/it]"
     ]
    },
    {
     "name": "stdout",
     "output_type": "stream",
     "text": [
      "[19:25:57] WARNING: C:/Users/Administrator/workspace/xgboost-win64_release_1.4.0/src/learner.cc:1095: Starting in XGBoost 1.3.0, the default evaluation metric used with the objective 'binary:logistic' was changed from 'error' to 'logloss'. Explicitly set eval_metric if you'd like to restore the old behavior.\n"
     ]
    },
    {
     "name": "stderr",
     "output_type": "stream",
     "text": [
      "\r",
      " 68%|███████████████████████████████████████████████████████                          | 68/100 [03:09<01:28,  2.77s/it]"
     ]
    },
    {
     "name": "stdout",
     "output_type": "stream",
     "text": [
      "[19:26:00] WARNING: C:/Users/Administrator/workspace/xgboost-win64_release_1.4.0/src/learner.cc:1095: Starting in XGBoost 1.3.0, the default evaluation metric used with the objective 'binary:logistic' was changed from 'error' to 'logloss'. Explicitly set eval_metric if you'd like to restore the old behavior.\n"
     ]
    },
    {
     "name": "stderr",
     "output_type": "stream",
     "text": [
      "\r",
      " 69%|███████████████████████████████████████████████████████▉                         | 69/100 [03:11<01:22,  2.66s/it]"
     ]
    },
    {
     "name": "stdout",
     "output_type": "stream",
     "text": [
      "[19:26:02] WARNING: C:/Users/Administrator/workspace/xgboost-win64_release_1.4.0/src/learner.cc:1095: Starting in XGBoost 1.3.0, the default evaluation metric used with the objective 'binary:logistic' was changed from 'error' to 'logloss'. Explicitly set eval_metric if you'd like to restore the old behavior.\n"
     ]
    },
    {
     "name": "stderr",
     "output_type": "stream",
     "text": [
      "\r",
      " 70%|████████████████████████████████████████████████████████▋                        | 70/100 [03:14<01:22,  2.76s/it]"
     ]
    },
    {
     "name": "stdout",
     "output_type": "stream",
     "text": [
      "[19:26:05] WARNING: C:/Users/Administrator/workspace/xgboost-win64_release_1.4.0/src/learner.cc:1095: Starting in XGBoost 1.3.0, the default evaluation metric used with the objective 'binary:logistic' was changed from 'error' to 'logloss'. Explicitly set eval_metric if you'd like to restore the old behavior.\n"
     ]
    },
    {
     "name": "stderr",
     "output_type": "stream",
     "text": [
      "\r",
      " 71%|█████████████████████████████████████████████████████████▌                       | 71/100 [03:17<01:23,  2.87s/it]"
     ]
    },
    {
     "name": "stdout",
     "output_type": "stream",
     "text": [
      "[19:26:08] WARNING: C:/Users/Administrator/workspace/xgboost-win64_release_1.4.0/src/learner.cc:1095: Starting in XGBoost 1.3.0, the default evaluation metric used with the objective 'binary:logistic' was changed from 'error' to 'logloss'. Explicitly set eval_metric if you'd like to restore the old behavior.\n"
     ]
    },
    {
     "name": "stderr",
     "output_type": "stream",
     "text": [
      "\r",
      " 72%|██████████████████████████████████████████████████████████▎                      | 72/100 [03:20<01:18,  2.80s/it]"
     ]
    },
    {
     "name": "stdout",
     "output_type": "stream",
     "text": [
      "[19:26:11] WARNING: C:/Users/Administrator/workspace/xgboost-win64_release_1.4.0/src/learner.cc:1095: Starting in XGBoost 1.3.0, the default evaluation metric used with the objective 'binary:logistic' was changed from 'error' to 'logloss'. Explicitly set eval_metric if you'd like to restore the old behavior.\n"
     ]
    },
    {
     "name": "stderr",
     "output_type": "stream",
     "text": [
      "\r",
      " 73%|███████████████████████████████████████████████████████████▏                     | 73/100 [03:23<01:15,  2.79s/it]"
     ]
    },
    {
     "name": "stdout",
     "output_type": "stream",
     "text": [
      "[19:26:14] WARNING: C:/Users/Administrator/workspace/xgboost-win64_release_1.4.0/src/learner.cc:1095: Starting in XGBoost 1.3.0, the default evaluation metric used with the objective 'binary:logistic' was changed from 'error' to 'logloss'. Explicitly set eval_metric if you'd like to restore the old behavior.\n"
     ]
    },
    {
     "name": "stderr",
     "output_type": "stream",
     "text": [
      "\r",
      " 74%|███████████████████████████████████████████████████████████▉                     | 74/100 [03:26<01:15,  2.89s/it]"
     ]
    },
    {
     "name": "stdout",
     "output_type": "stream",
     "text": [
      "[19:26:17] WARNING: C:/Users/Administrator/workspace/xgboost-win64_release_1.4.0/src/learner.cc:1095: Starting in XGBoost 1.3.0, the default evaluation metric used with the objective 'binary:logistic' was changed from 'error' to 'logloss'. Explicitly set eval_metric if you'd like to restore the old behavior.\n"
     ]
    },
    {
     "name": "stderr",
     "output_type": "stream",
     "text": [
      "\r",
      " 75%|████████████████████████████████████████████████████████████▊                    | 75/100 [03:29<01:13,  2.92s/it]"
     ]
    },
    {
     "name": "stdout",
     "output_type": "stream",
     "text": [
      "[19:26:20] WARNING: C:/Users/Administrator/workspace/xgboost-win64_release_1.4.0/src/learner.cc:1095: Starting in XGBoost 1.3.0, the default evaluation metric used with the objective 'binary:logistic' was changed from 'error' to 'logloss'. Explicitly set eval_metric if you'd like to restore the old behavior.\n"
     ]
    },
    {
     "name": "stderr",
     "output_type": "stream",
     "text": [
      "\r",
      " 76%|█████████████████████████████████████████████████████████████▌                   | 76/100 [03:32<01:11,  2.98s/it]"
     ]
    },
    {
     "name": "stdout",
     "output_type": "stream",
     "text": [
      "[19:26:23] WARNING: C:/Users/Administrator/workspace/xgboost-win64_release_1.4.0/src/learner.cc:1095: Starting in XGBoost 1.3.0, the default evaluation metric used with the objective 'binary:logistic' was changed from 'error' to 'logloss'. Explicitly set eval_metric if you'd like to restore the old behavior.\n"
     ]
    },
    {
     "name": "stderr",
     "output_type": "stream",
     "text": [
      "\r",
      " 77%|██████████████████████████████████████████████████████████████▎                  | 77/100 [03:34<01:05,  2.84s/it]"
     ]
    },
    {
     "name": "stdout",
     "output_type": "stream",
     "text": [
      "[19:26:25] WARNING: C:/Users/Administrator/workspace/xgboost-win64_release_1.4.0/src/learner.cc:1095: Starting in XGBoost 1.3.0, the default evaluation metric used with the objective 'binary:logistic' was changed from 'error' to 'logloss'. Explicitly set eval_metric if you'd like to restore the old behavior.\n"
     ]
    },
    {
     "name": "stderr",
     "output_type": "stream",
     "text": [
      "\r",
      " 78%|███████████████████████████████████████████████████████████████▏                 | 78/100 [03:37<01:00,  2.76s/it]"
     ]
    },
    {
     "name": "stdout",
     "output_type": "stream",
     "text": [
      "[19:26:28] WARNING: C:/Users/Administrator/workspace/xgboost-win64_release_1.4.0/src/learner.cc:1095: Starting in XGBoost 1.3.0, the default evaluation metric used with the objective 'binary:logistic' was changed from 'error' to 'logloss'. Explicitly set eval_metric if you'd like to restore the old behavior.\n"
     ]
    },
    {
     "name": "stderr",
     "output_type": "stream",
     "text": [
      "\r",
      " 79%|███████████████████████████████████████████████████████████████▉                 | 79/100 [03:40<01:01,  2.91s/it]"
     ]
    },
    {
     "name": "stdout",
     "output_type": "stream",
     "text": [
      "[19:26:31] WARNING: C:/Users/Administrator/workspace/xgboost-win64_release_1.4.0/src/learner.cc:1095: Starting in XGBoost 1.3.0, the default evaluation metric used with the objective 'binary:logistic' was changed from 'error' to 'logloss'. Explicitly set eval_metric if you'd like to restore the old behavior.\n"
     ]
    },
    {
     "name": "stderr",
     "output_type": "stream",
     "text": [
      "\r",
      " 80%|████████████████████████████████████████████████████████████████▊                | 80/100 [03:43<00:57,  2.90s/it]"
     ]
    },
    {
     "name": "stdout",
     "output_type": "stream",
     "text": [
      "[19:26:34] WARNING: C:/Users/Administrator/workspace/xgboost-win64_release_1.4.0/src/learner.cc:1095: Starting in XGBoost 1.3.0, the default evaluation metric used with the objective 'binary:logistic' was changed from 'error' to 'logloss'. Explicitly set eval_metric if you'd like to restore the old behavior.\n"
     ]
    },
    {
     "name": "stderr",
     "output_type": "stream",
     "text": [
      "\r",
      " 81%|█████████████████████████████████████████████████████████████████▌               | 81/100 [03:46<00:53,  2.81s/it]"
     ]
    },
    {
     "name": "stdout",
     "output_type": "stream",
     "text": [
      "[19:26:37] WARNING: C:/Users/Administrator/workspace/xgboost-win64_release_1.4.0/src/learner.cc:1095: Starting in XGBoost 1.3.0, the default evaluation metric used with the objective 'binary:logistic' was changed from 'error' to 'logloss'. Explicitly set eval_metric if you'd like to restore the old behavior.\n"
     ]
    },
    {
     "name": "stderr",
     "output_type": "stream",
     "text": [
      "\r",
      " 82%|██████████████████████████████████████████████████████████████████▍              | 82/100 [03:48<00:48,  2.69s/it]"
     ]
    },
    {
     "name": "stdout",
     "output_type": "stream",
     "text": [
      "[19:26:39] WARNING: C:/Users/Administrator/workspace/xgboost-win64_release_1.4.0/src/learner.cc:1095: Starting in XGBoost 1.3.0, the default evaluation metric used with the objective 'binary:logistic' was changed from 'error' to 'logloss'. Explicitly set eval_metric if you'd like to restore the old behavior.\n"
     ]
    },
    {
     "name": "stderr",
     "output_type": "stream",
     "text": [
      "\r",
      " 83%|███████████████████████████████████████████████████████████████████▏             | 83/100 [03:52<00:49,  2.89s/it]"
     ]
    },
    {
     "name": "stdout",
     "output_type": "stream",
     "text": [
      "[19:26:42] WARNING: C:/Users/Administrator/workspace/xgboost-win64_release_1.4.0/src/learner.cc:1095: Starting in XGBoost 1.3.0, the default evaluation metric used with the objective 'binary:logistic' was changed from 'error' to 'logloss'. Explicitly set eval_metric if you'd like to restore the old behavior.\n"
     ]
    },
    {
     "name": "stderr",
     "output_type": "stream",
     "text": [
      "\r",
      " 84%|████████████████████████████████████████████████████████████████████             | 84/100 [03:54<00:45,  2.85s/it]"
     ]
    },
    {
     "name": "stdout",
     "output_type": "stream",
     "text": [
      "[19:26:45] WARNING: C:/Users/Administrator/workspace/xgboost-win64_release_1.4.0/src/learner.cc:1095: Starting in XGBoost 1.3.0, the default evaluation metric used with the objective 'binary:logistic' was changed from 'error' to 'logloss'. Explicitly set eval_metric if you'd like to restore the old behavior.\n"
     ]
    },
    {
     "name": "stderr",
     "output_type": "stream",
     "text": [
      "\r",
      " 85%|████████████████████████████████████████████████████████████████████▊            | 85/100 [03:57<00:40,  2.71s/it]"
     ]
    },
    {
     "name": "stdout",
     "output_type": "stream",
     "text": [
      "[19:26:48] WARNING: C:/Users/Administrator/workspace/xgboost-win64_release_1.4.0/src/learner.cc:1095: Starting in XGBoost 1.3.0, the default evaluation metric used with the objective 'binary:logistic' was changed from 'error' to 'logloss'. Explicitly set eval_metric if you'd like to restore the old behavior.\n"
     ]
    },
    {
     "name": "stderr",
     "output_type": "stream",
     "text": [
      "\r",
      " 86%|█████████████████████████████████████████████████████████████████████▋           | 86/100 [04:00<00:41,  2.93s/it]"
     ]
    },
    {
     "name": "stdout",
     "output_type": "stream",
     "text": [
      "[19:26:51] WARNING: C:/Users/Administrator/workspace/xgboost-win64_release_1.4.0/src/learner.cc:1095: Starting in XGBoost 1.3.0, the default evaluation metric used with the objective 'binary:logistic' was changed from 'error' to 'logloss'. Explicitly set eval_metric if you'd like to restore the old behavior.\n"
     ]
    },
    {
     "name": "stderr",
     "output_type": "stream",
     "text": [
      "\r",
      " 87%|██████████████████████████████████████████████████████████████████████▍          | 87/100 [04:03<00:37,  2.85s/it]"
     ]
    },
    {
     "name": "stdout",
     "output_type": "stream",
     "text": [
      "[19:26:54] WARNING: C:/Users/Administrator/workspace/xgboost-win64_release_1.4.0/src/learner.cc:1095: Starting in XGBoost 1.3.0, the default evaluation metric used with the objective 'binary:logistic' was changed from 'error' to 'logloss'. Explicitly set eval_metric if you'd like to restore the old behavior.\n"
     ]
    },
    {
     "name": "stderr",
     "output_type": "stream",
     "text": [
      "\r",
      " 88%|███████████████████████████████████████████████████████████████████████▎         | 88/100 [04:06<00:35,  2.94s/it]"
     ]
    },
    {
     "name": "stdout",
     "output_type": "stream",
     "text": [
      "[19:26:57] WARNING: C:/Users/Administrator/workspace/xgboost-win64_release_1.4.0/src/learner.cc:1095: Starting in XGBoost 1.3.0, the default evaluation metric used with the objective 'binary:logistic' was changed from 'error' to 'logloss'. Explicitly set eval_metric if you'd like to restore the old behavior.\n"
     ]
    },
    {
     "name": "stderr",
     "output_type": "stream",
     "text": [
      "\r",
      " 89%|████████████████████████████████████████████████████████████████████████         | 89/100 [04:09<00:31,  2.87s/it]"
     ]
    },
    {
     "name": "stdout",
     "output_type": "stream",
     "text": [
      "[19:27:00] WARNING: C:/Users/Administrator/workspace/xgboost-win64_release_1.4.0/src/learner.cc:1095: Starting in XGBoost 1.3.0, the default evaluation metric used with the objective 'binary:logistic' was changed from 'error' to 'logloss'. Explicitly set eval_metric if you'd like to restore the old behavior.\n"
     ]
    },
    {
     "name": "stderr",
     "output_type": "stream",
     "text": [
      "\r",
      " 90%|████████████████████████████████████████████████████████████████████████▉        | 90/100 [04:11<00:28,  2.84s/it]"
     ]
    },
    {
     "name": "stdout",
     "output_type": "stream",
     "text": [
      "[19:27:02] WARNING: C:/Users/Administrator/workspace/xgboost-win64_release_1.4.0/src/learner.cc:1095: Starting in XGBoost 1.3.0, the default evaluation metric used with the objective 'binary:logistic' was changed from 'error' to 'logloss'. Explicitly set eval_metric if you'd like to restore the old behavior.\n"
     ]
    },
    {
     "name": "stderr",
     "output_type": "stream",
     "text": [
      "\r",
      " 91%|█████████████████████████████████████████████████████████████████████████▋       | 91/100 [04:14<00:25,  2.85s/it]"
     ]
    },
    {
     "name": "stdout",
     "output_type": "stream",
     "text": [
      "[19:27:05] WARNING: C:/Users/Administrator/workspace/xgboost-win64_release_1.4.0/src/learner.cc:1095: Starting in XGBoost 1.3.0, the default evaluation metric used with the objective 'binary:logistic' was changed from 'error' to 'logloss'. Explicitly set eval_metric if you'd like to restore the old behavior.\n"
     ]
    },
    {
     "name": "stderr",
     "output_type": "stream",
     "text": [
      "\r",
      " 92%|██████████████████████████████████████████████████████████████████████████▌      | 92/100 [04:17<00:23,  2.89s/it]"
     ]
    },
    {
     "name": "stdout",
     "output_type": "stream",
     "text": [
      "[19:27:08] WARNING: C:/Users/Administrator/workspace/xgboost-win64_release_1.4.0/src/learner.cc:1095: Starting in XGBoost 1.3.0, the default evaluation metric used with the objective 'binary:logistic' was changed from 'error' to 'logloss'. Explicitly set eval_metric if you'd like to restore the old behavior.\n"
     ]
    },
    {
     "name": "stderr",
     "output_type": "stream",
     "text": [
      "\r",
      " 93%|███████████████████████████████████████████████████████████████████████████▎     | 93/100 [04:20<00:19,  2.80s/it]"
     ]
    },
    {
     "name": "stdout",
     "output_type": "stream",
     "text": [
      "[19:27:11] WARNING: C:/Users/Administrator/workspace/xgboost-win64_release_1.4.0/src/learner.cc:1095: Starting in XGBoost 1.3.0, the default evaluation metric used with the objective 'binary:logistic' was changed from 'error' to 'logloss'. Explicitly set eval_metric if you'd like to restore the old behavior.\n"
     ]
    },
    {
     "name": "stderr",
     "output_type": "stream",
     "text": [
      "\r",
      " 94%|████████████████████████████████████████████████████████████████████████████▏    | 94/100 [04:23<00:17,  2.91s/it]"
     ]
    },
    {
     "name": "stdout",
     "output_type": "stream",
     "text": [
      "[19:27:14] WARNING: C:/Users/Administrator/workspace/xgboost-win64_release_1.4.0/src/learner.cc:1095: Starting in XGBoost 1.3.0, the default evaluation metric used with the objective 'binary:logistic' was changed from 'error' to 'logloss'. Explicitly set eval_metric if you'd like to restore the old behavior.\n"
     ]
    },
    {
     "name": "stderr",
     "output_type": "stream",
     "text": [
      "\r",
      " 95%|████████████████████████████████████████████████████████████████████████████▉    | 95/100 [04:26<00:14,  2.92s/it]"
     ]
    },
    {
     "name": "stdout",
     "output_type": "stream",
     "text": [
      "[19:27:17] WARNING: C:/Users/Administrator/workspace/xgboost-win64_release_1.4.0/src/learner.cc:1095: Starting in XGBoost 1.3.0, the default evaluation metric used with the objective 'binary:logistic' was changed from 'error' to 'logloss'. Explicitly set eval_metric if you'd like to restore the old behavior.\n"
     ]
    },
    {
     "name": "stderr",
     "output_type": "stream",
     "text": [
      "\r",
      " 96%|█████████████████████████████████████████████████████████████████████████████▊   | 96/100 [04:29<00:11,  2.83s/it]"
     ]
    },
    {
     "name": "stdout",
     "output_type": "stream",
     "text": [
      "[19:27:19] WARNING: C:/Users/Administrator/workspace/xgboost-win64_release_1.4.0/src/learner.cc:1095: Starting in XGBoost 1.3.0, the default evaluation metric used with the objective 'binary:logistic' was changed from 'error' to 'logloss'. Explicitly set eval_metric if you'd like to restore the old behavior.\n"
     ]
    },
    {
     "name": "stderr",
     "output_type": "stream",
     "text": [
      "\r",
      " 97%|██████████████████████████████████████████████████████████████████████████████▌  | 97/100 [04:32<00:08,  2.89s/it]"
     ]
    },
    {
     "name": "stdout",
     "output_type": "stream",
     "text": [
      "[19:27:23] WARNING: C:/Users/Administrator/workspace/xgboost-win64_release_1.4.0/src/learner.cc:1095: Starting in XGBoost 1.3.0, the default evaluation metric used with the objective 'binary:logistic' was changed from 'error' to 'logloss'. Explicitly set eval_metric if you'd like to restore the old behavior.\n"
     ]
    },
    {
     "name": "stderr",
     "output_type": "stream",
     "text": [
      "\r",
      " 98%|███████████████████████████████████████████████████████████████████████████████▍ | 98/100 [04:34<00:05,  2.85s/it]"
     ]
    },
    {
     "name": "stdout",
     "output_type": "stream",
     "text": [
      "[19:27:25] WARNING: C:/Users/Administrator/workspace/xgboost-win64_release_1.4.0/src/learner.cc:1095: Starting in XGBoost 1.3.0, the default evaluation metric used with the objective 'binary:logistic' was changed from 'error' to 'logloss'. Explicitly set eval_metric if you'd like to restore the old behavior.\n"
     ]
    },
    {
     "name": "stderr",
     "output_type": "stream",
     "text": [
      "\r",
      " 99%|████████████████████████████████████████████████████████████████████████████████▏| 99/100 [04:37<00:02,  2.84s/it]"
     ]
    },
    {
     "name": "stdout",
     "output_type": "stream",
     "text": [
      "[19:27:28] WARNING: C:/Users/Administrator/workspace/xgboost-win64_release_1.4.0/src/learner.cc:1095: Starting in XGBoost 1.3.0, the default evaluation metric used with the objective 'binary:logistic' was changed from 'error' to 'logloss'. Explicitly set eval_metric if you'd like to restore the old behavior.\n"
     ]
    },
    {
     "name": "stderr",
     "output_type": "stream",
     "text": [
      "100%|████████████████████████████████████████████████████████████████████████████████| 100/100 [04:40<00:00,  2.80s/it]"
     ]
    },
    {
     "name": "stdout",
     "output_type": "stream",
     "text": [
      "17 attributes confirmed important: ['sex_male', 'doing_sports__yes', 'education_level__middle', 'hedonism__yes', 'overloaded_at_work__yes', 'education_level__Primary', 'goes_to_church__yes', 'job__yes', 'age__between_40_60', 'unfair_work__yes', 'income_stressful__yes', 'class_ city 20-100 thou.', 'too_much_alkohol__yes', 'martial_status__married', 'class_ village', 'goes_to_cinema__yes', 'weight_obesity']\n",
      "17 attributes confirmed unimportant: ['age__below_40', 'law_breaking__yes', 'class_ city more than 500 thou.', 'weight__overweight', 'income__2nd_quantile', 'weight__underweight', 'class_ city less than 20 thou.', 'friends__medium', 'income__3rd_quantile', 'strenuous_work__yes', 'goes_to_restaurant__yes', 'drugs__yes', 'unstable_income__yes', 'martial_status__single', 'class_ city 200-500 thou.', 'friends__small', 'income__4th_quantile']\n",
      "0 tentative attributes remains: []\n"
     ]
    },
    {
     "name": "stderr",
     "output_type": "stream",
     "text": [
      "\n"
     ]
    }
   ],
   "source": [
    "Feature_Selector.fit(X=X_train, \n",
    "                     y=y_train, \n",
    "                     n_trials=100, \n",
    "                     sample=False,\n",
    "                     train_or_test = 'test', \n",
    "                     normalize=True,\n",
    "                     verbose=True)"
   ]
  },
  {
   "cell_type": "code",
   "execution_count": 27,
   "metadata": {},
   "outputs": [
    {
     "data": {
      "image/png": "[encoded data removed]",
      "text/plain": [
       "<Figure size 864x576 with 1 Axes>"
      ]
     },
     "metadata": {
      "needs_background": "light"
     },
     "output_type": "display_data"
    }
   ],
   "source": [
    "Feature_Selector.plot(which_features='all')"
   ]
  },
  {
   "cell_type": "code",
   "execution_count": 16,
   "metadata": {},
   "outputs": [],
   "source": [
    "important_cols = Feature_Selector.Subset().columns"
   ]
  },
  {
   "cell_type": "code",
   "execution_count": null,
   "metadata": {},
   "outputs": [],
   "source": [
    "from sklearn.metrics import classification_report, confusion_matrix, accuracy_score, roc_curve, roc_auc_score\n",
    "import matplotlib.pyplot as plt"
   ]
  },
  {
   "cell_type": "code",
   "execution_count": 130,
   "metadata": {},
   "outputs": [],
   "source": [
    "from sklearn.utils import class_weight\n",
    "class_weights = list(class_weight.compute_class_weight('balanced',\n",
    "                                             np.unique(y_train),\n",
    "                                             y_train))"
   ]
  },
  {
   "cell_type": "markdown",
   "metadata": {},
   "source": [
    "# Uwaga\n",
    "Parametr scale_pos_weight odpowada za wagę klasy 'pali'. Nie wpływa on znacząco na AUC, jednak zupełnie zmienia Accuracy i macierz błędów, przy czym na acc wpływa negatywnie - co jest absolutnie normalne. Bez tego parametru ACC=0.77, ale powodem takiego zachowania jest mało zbalansowana zmienna. Jeżeli chcemy pokazać ACC, to zmienimy.\n",
    "Dodatkowo, parametr wpłwa na wartość wyjściową na wykresach SHAP. Aktualnie jest to 0 (bo mamy balans w danych), ale jeżeli usuniemy parametr, to wyjściową wartością SHAP jest coś koło -1.2, co trudno będzie wytłumaczyć w środowisku medycznym."
   ]
  },
  {
   "cell_type": "code",
   "execution_count": 158,
   "metadata": {},
   "outputs": [
    {
     "name": "stdout",
     "output_type": "stream",
     "text": [
      "[0]\tvalidation_0-auc:0.67494\tvalidation_0-error:0.36835\n",
      "[1]\tvalidation_0-auc:0.67494\tvalidation_0-error:0.36835\n",
      "[2]\tvalidation_0-auc:0.67644\tvalidation_0-error:0.36835\n",
      "[3]\tvalidation_0-auc:0.67527\tvalidation_0-error:0.36699\n",
      "[4]\tvalidation_0-auc:0.67629\tvalidation_0-error:0.36835\n",
      "[5]\tvalidation_0-auc:0.67527\tvalidation_0-error:0.36699\n",
      "[6]\tvalidation_0-auc:0.67527\tvalidation_0-error:0.35547\n",
      "[7]\tvalidation_0-auc:0.67527\tvalidation_0-error:0.36699\n",
      "[8]\tvalidation_0-auc:0.67527\tvalidation_0-error:0.35547\n",
      "[9]\tvalidation_0-auc:0.67527\tvalidation_0-error:0.36699\n",
      "[10]\tvalidation_0-auc:0.67527\tvalidation_0-error:0.35547\n",
      "[11]\tvalidation_0-auc:0.67527\tvalidation_0-error:0.35547\n",
      "[12]\tvalidation_0-auc:0.67660\tvalidation_0-error:0.35547\n",
      "[13]\tvalidation_0-auc:0.67664\tvalidation_0-error:0.35547\n",
      "[14]\tvalidation_0-auc:0.67660\tvalidation_0-error:0.35547\n",
      "[15]\tvalidation_0-auc:0.67660\tvalidation_0-error:0.35547\n",
      "[16]\tvalidation_0-auc:0.67944\tvalidation_0-error:0.35547\n",
      "[17]\tvalidation_0-auc:0.68026\tvalidation_0-error:0.35547\n",
      "[18]\tvalidation_0-auc:0.68221\tvalidation_0-error:0.36293\n",
      "[19]\tvalidation_0-auc:0.68235\tvalidation_0-error:0.36632\n",
      "[20]\tvalidation_0-auc:0.68305\tvalidation_0-error:0.36632\n",
      "[21]\tvalidation_0-auc:0.68249\tvalidation_0-error:0.36632\n",
      "[22]\tvalidation_0-auc:0.68300\tvalidation_0-error:0.36632\n",
      "[23]\tvalidation_0-auc:0.68345\tvalidation_0-error:0.36632\n",
      "[24]\tvalidation_0-auc:0.68517\tvalidation_0-error:0.37038\n",
      "[25]\tvalidation_0-auc:0.68614\tvalidation_0-error:0.37038\n",
      "[26]\tvalidation_0-auc:0.68650\tvalidation_0-error:0.37038\n",
      "[27]\tvalidation_0-auc:0.68817\tvalidation_0-error:0.37038\n",
      "[28]\tvalidation_0-auc:0.68752\tvalidation_0-error:0.36903\n",
      "[29]\tvalidation_0-auc:0.68738\tvalidation_0-error:0.36632\n",
      "[30]\tvalidation_0-auc:0.68813\tvalidation_0-error:0.36869\n",
      "[31]\tvalidation_0-auc:0.68821\tvalidation_0-error:0.36869\n",
      "[32]\tvalidation_0-auc:0.68896\tvalidation_0-error:0.36869\n",
      "[33]\tvalidation_0-auc:0.68932\tvalidation_0-error:0.36869\n",
      "[34]\tvalidation_0-auc:0.68913\tvalidation_0-error:0.36869\n",
      "[35]\tvalidation_0-auc:0.68911\tvalidation_0-error:0.36598\n",
      "[36]\tvalidation_0-auc:0.68971\tvalidation_0-error:0.36869\n",
      "[37]\tvalidation_0-auc:0.68934\tvalidation_0-error:0.36598\n",
      "[38]\tvalidation_0-auc:0.68933\tvalidation_0-error:0.36598\n",
      "[39]\tvalidation_0-auc:0.68978\tvalidation_0-error:0.36598\n",
      "[40]\tvalidation_0-auc:0.68985\tvalidation_0-error:0.36598\n",
      "[41]\tvalidation_0-auc:0.68956\tvalidation_0-error:0.36598\n",
      "[42]\tvalidation_0-auc:0.69068\tvalidation_0-error:0.36632\n",
      "[43]\tvalidation_0-auc:0.69048\tvalidation_0-error:0.36903\n",
      "[44]\tvalidation_0-auc:0.69300\tvalidation_0-error:0.36598\n",
      "[45]\tvalidation_0-auc:0.69291\tvalidation_0-error:0.36903\n",
      "[46]\tvalidation_0-auc:0.69316\tvalidation_0-error:0.36530\n",
      "[47]\tvalidation_0-auc:0.69454\tvalidation_0-error:0.36530\n",
      "[48]\tvalidation_0-auc:0.69451\tvalidation_0-error:0.36530\n",
      "[49]\tvalidation_0-auc:0.69444\tvalidation_0-error:0.36530\n",
      "[50]\tvalidation_0-auc:0.69525\tvalidation_0-error:0.36530\n",
      "[51]\tvalidation_0-auc:0.69564\tvalidation_0-error:0.36530\n",
      "[52]\tvalidation_0-auc:0.69585\tvalidation_0-error:0.37242\n",
      "[53]\tvalidation_0-auc:0.69596\tvalidation_0-error:0.37242\n",
      "[54]\tvalidation_0-auc:0.69563\tvalidation_0-error:0.37242\n",
      "[55]\tvalidation_0-auc:0.69605\tvalidation_0-error:0.37242\n",
      "[56]\tvalidation_0-auc:0.69629\tvalidation_0-error:0.37174\n",
      "[57]\tvalidation_0-auc:0.69707\tvalidation_0-error:0.37174\n",
      "[58]\tvalidation_0-auc:0.69733\tvalidation_0-error:0.37174\n",
      "[59]\tvalidation_0-auc:0.69722\tvalidation_0-error:0.37174\n",
      "[60]\tvalidation_0-auc:0.69779\tvalidation_0-error:0.36835\n",
      "[61]\tvalidation_0-auc:0.69836\tvalidation_0-error:0.36564\n",
      "[62]\tvalidation_0-auc:0.69898\tvalidation_0-error:0.36564\n",
      "[63]\tvalidation_0-auc:0.69921\tvalidation_0-error:0.36564\n",
      "[64]\tvalidation_0-auc:0.69928\tvalidation_0-error:0.36598\n",
      "[65]\tvalidation_0-auc:0.70014\tvalidation_0-error:0.36564\n",
      "[66]\tvalidation_0-auc:0.70008\tvalidation_0-error:0.36564\n",
      "[67]\tvalidation_0-auc:0.70005\tvalidation_0-error:0.36462\n",
      "[68]\tvalidation_0-auc:0.70029\tvalidation_0-error:0.36462\n",
      "[69]\tvalidation_0-auc:0.70068\tvalidation_0-error:0.36598\n",
      "[70]\tvalidation_0-auc:0.70082\tvalidation_0-error:0.36496\n",
      "[71]\tvalidation_0-auc:0.70059\tvalidation_0-error:0.36496\n",
      "[72]\tvalidation_0-auc:0.70098\tvalidation_0-error:0.36496\n",
      "[73]\tvalidation_0-auc:0.70117\tvalidation_0-error:0.36327\n",
      "[74]\tvalidation_0-auc:0.70129\tvalidation_0-error:0.36496\n",
      "[75]\tvalidation_0-auc:0.70109\tvalidation_0-error:0.36496\n",
      "[76]\tvalidation_0-auc:0.70132\tvalidation_0-error:0.35818\n",
      "[77]\tvalidation_0-auc:0.70198\tvalidation_0-error:0.36293\n",
      "[78]\tvalidation_0-auc:0.70200\tvalidation_0-error:0.35818\n",
      "[79]\tvalidation_0-auc:0.70256\tvalidation_0-error:0.35683\n",
      "[80]\tvalidation_0-auc:0.70259\tvalidation_0-error:0.35818\n",
      "[81]\tvalidation_0-auc:0.70266\tvalidation_0-error:0.35683\n",
      "[82]\tvalidation_0-auc:0.70269\tvalidation_0-error:0.35480\n",
      "[83]\tvalidation_0-auc:0.70293\tvalidation_0-error:0.35480\n",
      "[84]\tvalidation_0-auc:0.70347\tvalidation_0-error:0.35581\n",
      "[85]\tvalidation_0-auc:0.70381\tvalidation_0-error:0.35107\n",
      "[86]\tvalidation_0-auc:0.70384\tvalidation_0-error:0.35513\n",
      "[87]\tvalidation_0-auc:0.70421\tvalidation_0-error:0.34734\n",
      "[88]\tvalidation_0-auc:0.70429\tvalidation_0-error:0.35242\n",
      "[89]\tvalidation_0-auc:0.70478\tvalidation_0-error:0.35276\n",
      "[90]\tvalidation_0-auc:0.70501\tvalidation_0-error:0.34700\n",
      "[91]\tvalidation_0-auc:0.70497\tvalidation_0-error:0.34869\n",
      "[92]\tvalidation_0-auc:0.70526\tvalidation_0-error:0.34802\n",
      "[93]\tvalidation_0-auc:0.70548\tvalidation_0-error:0.34768\n",
      "[94]\tvalidation_0-auc:0.70556\tvalidation_0-error:0.34598\n",
      "[95]\tvalidation_0-auc:0.70583\tvalidation_0-error:0.34666\n",
      "[96]\tvalidation_0-auc:0.70593\tvalidation_0-error:0.34666\n",
      "[97]\tvalidation_0-auc:0.70614\tvalidation_0-error:0.34632\n",
      "[98]\tvalidation_0-auc:0.70621\tvalidation_0-error:0.34700\n",
      "[99]\tvalidation_0-auc:0.70646\tvalidation_0-error:0.34632\n",
      "[100]\tvalidation_0-auc:0.70641\tvalidation_0-error:0.34700\n",
      "[101]\tvalidation_0-auc:0.70705\tvalidation_0-error:0.34632\n",
      "[102]\tvalidation_0-auc:0.70719\tvalidation_0-error:0.34531\n",
      "[103]\tvalidation_0-auc:0.70747\tvalidation_0-error:0.34565\n",
      "[104]\tvalidation_0-auc:0.70766\tvalidation_0-error:0.34598\n",
      "[105]\tvalidation_0-auc:0.70776\tvalidation_0-error:0.34598\n",
      "[106]\tvalidation_0-auc:0.70789\tvalidation_0-error:0.34565\n",
      "[107]\tvalidation_0-auc:0.70785\tvalidation_0-error:0.34565\n",
      "[108]\tvalidation_0-auc:0.70777\tvalidation_0-error:0.34565\n",
      "[109]\tvalidation_0-auc:0.70817\tvalidation_0-error:0.34565\n",
      "[110]\tvalidation_0-auc:0.70829\tvalidation_0-error:0.34734\n",
      "[111]\tvalidation_0-auc:0.70853\tvalidation_0-error:0.34666\n",
      "[112]\tvalidation_0-auc:0.70889\tvalidation_0-error:0.34734\n",
      "[113]\tvalidation_0-auc:0.70896\tvalidation_0-error:0.34666\n",
      "[114]\tvalidation_0-auc:0.70912\tvalidation_0-error:0.34666\n",
      "[115]\tvalidation_0-auc:0.70891\tvalidation_0-error:0.34666\n",
      "[116]\tvalidation_0-auc:0.70926\tvalidation_0-error:0.34734\n",
      "[117]\tvalidation_0-auc:0.70943\tvalidation_0-error:0.34768\n",
      "[118]\tvalidation_0-auc:0.70949\tvalidation_0-error:0.34734\n",
      "[119]\tvalidation_0-auc:0.70969\tvalidation_0-error:0.34734\n",
      "[120]\tvalidation_0-auc:0.70968\tvalidation_0-error:0.34734\n",
      "[121]\tvalidation_0-auc:0.70992\tvalidation_0-error:0.34734\n",
      "[122]\tvalidation_0-auc:0.71012\tvalidation_0-error:0.34869\n",
      "[123]\tvalidation_0-auc:0.70995\tvalidation_0-error:0.34734\n",
      "[124]\tvalidation_0-auc:0.71017\tvalidation_0-error:0.34497\n",
      "[125]\tvalidation_0-auc:0.71046\tvalidation_0-error:0.34836\n",
      "[126]\tvalidation_0-auc:0.71037\tvalidation_0-error:0.34802\n",
      "[127]\tvalidation_0-auc:0.71053\tvalidation_0-error:0.34869\n",
      "[128]\tvalidation_0-auc:0.71092\tvalidation_0-error:0.34531\n",
      "[129]\tvalidation_0-auc:0.71089\tvalidation_0-error:0.34768\n",
      "[130]\tvalidation_0-auc:0.71116\tvalidation_0-error:0.34869\n",
      "[131]\tvalidation_0-auc:0.71140\tvalidation_0-error:0.34565\n",
      "[132]\tvalidation_0-auc:0.71144\tvalidation_0-error:0.34565\n",
      "[133]\tvalidation_0-auc:0.71165\tvalidation_0-error:0.34666\n",
      "[134]\tvalidation_0-auc:0.71177\tvalidation_0-error:0.34429\n",
      "[135]\tvalidation_0-auc:0.71169\tvalidation_0-error:0.34361\n",
      "[136]\tvalidation_0-auc:0.71199\tvalidation_0-error:0.34361\n",
      "[137]\tvalidation_0-auc:0.71204\tvalidation_0-error:0.34327\n",
      "[138]\tvalidation_0-auc:0.71210\tvalidation_0-error:0.34497\n",
      "[139]\tvalidation_0-auc:0.71216\tvalidation_0-error:0.34531\n",
      "[140]\tvalidation_0-auc:0.71239\tvalidation_0-error:0.34158\n",
      "[141]\tvalidation_0-auc:0.71246\tvalidation_0-error:0.34531\n",
      "[142]\tvalidation_0-auc:0.71262\tvalidation_0-error:0.34531\n",
      "[143]\tvalidation_0-auc:0.71275\tvalidation_0-error:0.34192\n"
     ]
    },
    {
     "name": "stdout",
     "output_type": "stream",
     "text": [
      "[144]\tvalidation_0-auc:0.71286\tvalidation_0-error:0.34158\n",
      "[145]\tvalidation_0-auc:0.71298\tvalidation_0-error:0.34158\n",
      "[146]\tvalidation_0-auc:0.71308\tvalidation_0-error:0.34056\n",
      "[147]\tvalidation_0-auc:0.71330\tvalidation_0-error:0.34192\n",
      "[148]\tvalidation_0-auc:0.71347\tvalidation_0-error:0.34022\n",
      "[149]\tvalidation_0-auc:0.71345\tvalidation_0-error:0.34022\n",
      "[150]\tvalidation_0-auc:0.71360\tvalidation_0-error:0.33650\n",
      "[151]\tvalidation_0-auc:0.71374\tvalidation_0-error:0.33650\n",
      "[152]\tvalidation_0-auc:0.71383\tvalidation_0-error:0.33650\n",
      "[153]\tvalidation_0-auc:0.71406\tvalidation_0-error:0.33751\n",
      "[154]\tvalidation_0-auc:0.71414\tvalidation_0-error:0.33616\n",
      "[155]\tvalidation_0-auc:0.71416\tvalidation_0-error:0.33717\n",
      "[156]\tvalidation_0-auc:0.71405\tvalidation_0-error:0.33683\n",
      "[157]\tvalidation_0-auc:0.71407\tvalidation_0-error:0.33683\n",
      "[158]\tvalidation_0-auc:0.71417\tvalidation_0-error:0.33683\n",
      "[159]\tvalidation_0-auc:0.71437\tvalidation_0-error:0.33853\n",
      "[160]\tvalidation_0-auc:0.71456\tvalidation_0-error:0.33751\n",
      "[161]\tvalidation_0-auc:0.71470\tvalidation_0-error:0.33751\n",
      "[162]\tvalidation_0-auc:0.71464\tvalidation_0-error:0.33717\n",
      "[163]\tvalidation_0-auc:0.71480\tvalidation_0-error:0.33650\n",
      "[164]\tvalidation_0-auc:0.71479\tvalidation_0-error:0.33717\n",
      "[165]\tvalidation_0-auc:0.71491\tvalidation_0-error:0.33548\n",
      "[166]\tvalidation_0-auc:0.71500\tvalidation_0-error:0.33514\n",
      "[167]\tvalidation_0-auc:0.71495\tvalidation_0-error:0.33480\n",
      "[168]\tvalidation_0-auc:0.71511\tvalidation_0-error:0.33480\n",
      "[169]\tvalidation_0-auc:0.71513\tvalidation_0-error:0.33582\n",
      "[170]\tvalidation_0-auc:0.71532\tvalidation_0-error:0.33480\n",
      "[171]\tvalidation_0-auc:0.71531\tvalidation_0-error:0.33514\n",
      "[172]\tvalidation_0-auc:0.71547\tvalidation_0-error:0.33514\n",
      "[173]\tvalidation_0-auc:0.71545\tvalidation_0-error:0.33548\n",
      "[174]\tvalidation_0-auc:0.71574\tvalidation_0-error:0.33514\n",
      "[175]\tvalidation_0-auc:0.71578\tvalidation_0-error:0.33514\n",
      "[176]\tvalidation_0-auc:0.71594\tvalidation_0-error:0.33514\n",
      "[177]\tvalidation_0-auc:0.71605\tvalidation_0-error:0.33514\n",
      "[178]\tvalidation_0-auc:0.71608\tvalidation_0-error:0.33514\n",
      "[179]\tvalidation_0-auc:0.71603\tvalidation_0-error:0.33514\n",
      "[180]\tvalidation_0-auc:0.71629\tvalidation_0-error:0.33446\n",
      "[181]\tvalidation_0-auc:0.71650\tvalidation_0-error:0.33412\n",
      "[182]\tvalidation_0-auc:0.71659\tvalidation_0-error:0.33412\n",
      "[183]\tvalidation_0-auc:0.71669\tvalidation_0-error:0.33412\n",
      "[184]\tvalidation_0-auc:0.71664\tvalidation_0-error:0.33446\n",
      "[185]\tvalidation_0-auc:0.71661\tvalidation_0-error:0.33412\n",
      "[186]\tvalidation_0-auc:0.71679\tvalidation_0-error:0.33412\n",
      "[187]\tvalidation_0-auc:0.71680\tvalidation_0-error:0.33378\n",
      "[188]\tvalidation_0-auc:0.71686\tvalidation_0-error:0.33345\n",
      "[189]\tvalidation_0-auc:0.71707\tvalidation_0-error:0.33277\n",
      "[190]\tvalidation_0-auc:0.71715\tvalidation_0-error:0.33243\n",
      "[191]\tvalidation_0-auc:0.71725\tvalidation_0-error:0.33209\n",
      "[192]\tvalidation_0-auc:0.71728\tvalidation_0-error:0.33209\n",
      "[193]\tvalidation_0-auc:0.71737\tvalidation_0-error:0.33175\n",
      "[194]\tvalidation_0-auc:0.71736\tvalidation_0-error:0.33175\n",
      "[195]\tvalidation_0-auc:0.71743\tvalidation_0-error:0.33209\n",
      "[196]\tvalidation_0-auc:0.71749\tvalidation_0-error:0.33175\n",
      "[197]\tvalidation_0-auc:0.71761\tvalidation_0-error:0.33277\n",
      "[198]\tvalidation_0-auc:0.71772\tvalidation_0-error:0.33209\n",
      "[199]\tvalidation_0-auc:0.71785\tvalidation_0-error:0.33209\n",
      "[200]\tvalidation_0-auc:0.71776\tvalidation_0-error:0.33209\n",
      "[201]\tvalidation_0-auc:0.71791\tvalidation_0-error:0.33209\n",
      "[202]\tvalidation_0-auc:0.71785\tvalidation_0-error:0.33209\n",
      "[203]\tvalidation_0-auc:0.71791\tvalidation_0-error:0.33243\n",
      "[204]\tvalidation_0-auc:0.71805\tvalidation_0-error:0.33243\n",
      "[205]\tvalidation_0-auc:0.71808\tvalidation_0-error:0.33277\n",
      "[206]\tvalidation_0-auc:0.71818\tvalidation_0-error:0.33277\n",
      "[207]\tvalidation_0-auc:0.71824\tvalidation_0-error:0.33277\n",
      "[208]\tvalidation_0-auc:0.71837\tvalidation_0-error:0.33311\n",
      "[209]\tvalidation_0-auc:0.71838\tvalidation_0-error:0.33311\n",
      "[210]\tvalidation_0-auc:0.71844\tvalidation_0-error:0.33311\n",
      "[211]\tvalidation_0-auc:0.71858\tvalidation_0-error:0.33311\n",
      "[212]\tvalidation_0-auc:0.71868\tvalidation_0-error:0.33311\n",
      "[213]\tvalidation_0-auc:0.71864\tvalidation_0-error:0.33277\n",
      "[214]\tvalidation_0-auc:0.71870\tvalidation_0-error:0.33277\n",
      "[215]\tvalidation_0-auc:0.71880\tvalidation_0-error:0.33277\n",
      "[216]\tvalidation_0-auc:0.71882\tvalidation_0-error:0.33277\n",
      "[217]\tvalidation_0-auc:0.71895\tvalidation_0-error:0.33277\n",
      "[218]\tvalidation_0-auc:0.71884\tvalidation_0-error:0.33277\n",
      "[219]\tvalidation_0-auc:0.71896\tvalidation_0-error:0.33311\n",
      "[220]\tvalidation_0-auc:0.71905\tvalidation_0-error:0.33311\n",
      "[221]\tvalidation_0-auc:0.71903\tvalidation_0-error:0.33311\n",
      "[222]\tvalidation_0-auc:0.71914\tvalidation_0-error:0.33277\n",
      "[223]\tvalidation_0-auc:0.71907\tvalidation_0-error:0.33311\n",
      "[224]\tvalidation_0-auc:0.71908\tvalidation_0-error:0.33311\n",
      "[225]\tvalidation_0-auc:0.71916\tvalidation_0-error:0.33311\n",
      "[226]\tvalidation_0-auc:0.71934\tvalidation_0-error:0.33311\n",
      "[227]\tvalidation_0-auc:0.71943\tvalidation_0-error:0.33243\n",
      "[228]\tvalidation_0-auc:0.71947\tvalidation_0-error:0.33243\n",
      "[229]\tvalidation_0-auc:0.71944\tvalidation_0-error:0.33209\n",
      "[230]\tvalidation_0-auc:0.71942\tvalidation_0-error:0.33175\n",
      "[231]\tvalidation_0-auc:0.71947\tvalidation_0-error:0.33209\n",
      "[232]\tvalidation_0-auc:0.71950\tvalidation_0-error:0.33209\n",
      "[233]\tvalidation_0-auc:0.71943\tvalidation_0-error:0.33175\n",
      "[234]\tvalidation_0-auc:0.71947\tvalidation_0-error:0.33141\n",
      "[235]\tvalidation_0-auc:0.71951\tvalidation_0-error:0.33175\n",
      "[236]\tvalidation_0-auc:0.71952\tvalidation_0-error:0.33175\n",
      "[237]\tvalidation_0-auc:0.71964\tvalidation_0-error:0.33209\n",
      "[238]\tvalidation_0-auc:0.71980\tvalidation_0-error:0.33209\n",
      "[239]\tvalidation_0-auc:0.71973\tvalidation_0-error:0.33209\n",
      "[240]\tvalidation_0-auc:0.71977\tvalidation_0-error:0.33175\n",
      "[241]\tvalidation_0-auc:0.71995\tvalidation_0-error:0.33209\n",
      "[242]\tvalidation_0-auc:0.71992\tvalidation_0-error:0.33209\n",
      "[243]\tvalidation_0-auc:0.71985\tvalidation_0-error:0.33209\n",
      "[244]\tvalidation_0-auc:0.71990\tvalidation_0-error:0.33209\n",
      "[245]\tvalidation_0-auc:0.71990\tvalidation_0-error:0.33175\n",
      "[246]\tvalidation_0-auc:0.71996\tvalidation_0-error:0.33243\n",
      "[247]\tvalidation_0-auc:0.72010\tvalidation_0-error:0.33209\n",
      "[248]\tvalidation_0-auc:0.72025\tvalidation_0-error:0.33243\n",
      "[249]\tvalidation_0-auc:0.72020\tvalidation_0-error:0.33209\n",
      "[250]\tvalidation_0-auc:0.72037\tvalidation_0-error:0.33209\n",
      "[251]\tvalidation_0-auc:0.72036\tvalidation_0-error:0.33175\n",
      "[252]\tvalidation_0-auc:0.72035\tvalidation_0-error:0.33243\n",
      "[253]\tvalidation_0-auc:0.72043\tvalidation_0-error:0.33209\n",
      "[254]\tvalidation_0-auc:0.72050\tvalidation_0-error:0.33209\n",
      "[255]\tvalidation_0-auc:0.72047\tvalidation_0-error:0.33209\n",
      "[256]\tvalidation_0-auc:0.72052\tvalidation_0-error:0.33209\n",
      "[257]\tvalidation_0-auc:0.72054\tvalidation_0-error:0.33209\n",
      "[258]\tvalidation_0-auc:0.72058\tvalidation_0-error:0.33209\n",
      "[259]\tvalidation_0-auc:0.72062\tvalidation_0-error:0.33175\n",
      "[260]\tvalidation_0-auc:0.72072\tvalidation_0-error:0.33175\n",
      "[261]\tvalidation_0-auc:0.72069\tvalidation_0-error:0.33175\n",
      "[262]\tvalidation_0-auc:0.72078\tvalidation_0-error:0.33175\n",
      "[263]\tvalidation_0-auc:0.72083\tvalidation_0-error:0.33175\n",
      "[264]\tvalidation_0-auc:0.72078\tvalidation_0-error:0.33175\n",
      "[265]\tvalidation_0-auc:0.72098\tvalidation_0-error:0.33175\n",
      "[266]\tvalidation_0-auc:0.72093\tvalidation_0-error:0.33175\n",
      "[267]\tvalidation_0-auc:0.72094\tvalidation_0-error:0.33074\n",
      "[268]\tvalidation_0-auc:0.72110\tvalidation_0-error:0.33074\n",
      "[269]\tvalidation_0-auc:0.72117\tvalidation_0-error:0.33074\n",
      "[270]\tvalidation_0-auc:0.72131\tvalidation_0-error:0.33074\n",
      "[271]\tvalidation_0-auc:0.72141\tvalidation_0-error:0.33074\n",
      "[272]\tvalidation_0-auc:0.72137\tvalidation_0-error:0.33141\n",
      "[273]\tvalidation_0-auc:0.72134\tvalidation_0-error:0.33141\n",
      "[274]\tvalidation_0-auc:0.72135\tvalidation_0-error:0.33412\n",
      "[275]\tvalidation_0-auc:0.72146\tvalidation_0-error:0.33480\n",
      "[276]\tvalidation_0-auc:0.72144\tvalidation_0-error:0.33378\n",
      "[277]\tvalidation_0-auc:0.72148\tvalidation_0-error:0.33412\n",
      "[278]\tvalidation_0-auc:0.72156\tvalidation_0-error:0.33412\n",
      "[279]\tvalidation_0-auc:0.72160\tvalidation_0-error:0.33378\n",
      "[280]\tvalidation_0-auc:0.72166\tvalidation_0-error:0.33446\n",
      "[281]\tvalidation_0-auc:0.72161\tvalidation_0-error:0.33446\n",
      "[282]\tvalidation_0-auc:0.72160\tvalidation_0-error:0.33446\n",
      "[283]\tvalidation_0-auc:0.72170\tvalidation_0-error:0.33446\n",
      "[284]\tvalidation_0-auc:0.72170\tvalidation_0-error:0.33480\n",
      "[285]\tvalidation_0-auc:0.72173\tvalidation_0-error:0.33480\n"
     ]
    },
    {
     "name": "stdout",
     "output_type": "stream",
     "text": [
      "[286]\tvalidation_0-auc:0.72179\tvalidation_0-error:0.33446\n",
      "[287]\tvalidation_0-auc:0.72189\tvalidation_0-error:0.33446\n",
      "[288]\tvalidation_0-auc:0.72191\tvalidation_0-error:0.33480\n",
      "[289]\tvalidation_0-auc:0.72186\tvalidation_0-error:0.33480\n",
      "[290]\tvalidation_0-auc:0.72194\tvalidation_0-error:0.33480\n",
      "[291]\tvalidation_0-auc:0.72198\tvalidation_0-error:0.33548\n",
      "[292]\tvalidation_0-auc:0.72196\tvalidation_0-error:0.33378\n",
      "[293]\tvalidation_0-auc:0.72201\tvalidation_0-error:0.33311\n",
      "[294]\tvalidation_0-auc:0.72209\tvalidation_0-error:0.33378\n",
      "[295]\tvalidation_0-auc:0.72206\tvalidation_0-error:0.33378\n",
      "[296]\tvalidation_0-auc:0.72204\tvalidation_0-error:0.33378\n",
      "[297]\tvalidation_0-auc:0.72202\tvalidation_0-error:0.33378\n",
      "[298]\tvalidation_0-auc:0.72210\tvalidation_0-error:0.33378\n",
      "[299]\tvalidation_0-auc:0.72214\tvalidation_0-error:0.33378\n",
      "[300]\tvalidation_0-auc:0.72219\tvalidation_0-error:0.33378\n",
      "[301]\tvalidation_0-auc:0.72217\tvalidation_0-error:0.33277\n",
      "[302]\tvalidation_0-auc:0.72224\tvalidation_0-error:0.33311\n",
      "[303]\tvalidation_0-auc:0.72229\tvalidation_0-error:0.33277\n",
      "[304]\tvalidation_0-auc:0.72230\tvalidation_0-error:0.33277\n",
      "[305]\tvalidation_0-auc:0.72233\tvalidation_0-error:0.33243\n",
      "[306]\tvalidation_0-auc:0.72235\tvalidation_0-error:0.33243\n",
      "[307]\tvalidation_0-auc:0.72238\tvalidation_0-error:0.33074\n",
      "[308]\tvalidation_0-auc:0.72246\tvalidation_0-error:0.33074\n",
      "[309]\tvalidation_0-auc:0.72249\tvalidation_0-error:0.33074\n",
      "[310]\tvalidation_0-auc:0.72257\tvalidation_0-error:0.33141\n",
      "[311]\tvalidation_0-auc:0.72261\tvalidation_0-error:0.33141\n",
      "[312]\tvalidation_0-auc:0.72265\tvalidation_0-error:0.33209\n",
      "[313]\tvalidation_0-auc:0.72260\tvalidation_0-error:0.33141\n",
      "[314]\tvalidation_0-auc:0.72268\tvalidation_0-error:0.33107\n",
      "[315]\tvalidation_0-auc:0.72274\tvalidation_0-error:0.33175\n",
      "[316]\tvalidation_0-auc:0.72271\tvalidation_0-error:0.33040\n",
      "[317]\tvalidation_0-auc:0.72278\tvalidation_0-error:0.33141\n",
      "[318]\tvalidation_0-auc:0.72279\tvalidation_0-error:0.33074\n",
      "[319]\tvalidation_0-auc:0.72278\tvalidation_0-error:0.33107\n",
      "[320]\tvalidation_0-auc:0.72278\tvalidation_0-error:0.33107\n",
      "[321]\tvalidation_0-auc:0.72280\tvalidation_0-error:0.33175\n",
      "[322]\tvalidation_0-auc:0.72281\tvalidation_0-error:0.32938\n",
      "[323]\tvalidation_0-auc:0.72282\tvalidation_0-error:0.32938\n",
      "[324]\tvalidation_0-auc:0.72286\tvalidation_0-error:0.33175\n",
      "[325]\tvalidation_0-auc:0.72288\tvalidation_0-error:0.32972\n",
      "[326]\tvalidation_0-auc:0.72300\tvalidation_0-error:0.32972\n",
      "[327]\tvalidation_0-auc:0.72310\tvalidation_0-error:0.32972\n",
      "[328]\tvalidation_0-auc:0.72304\tvalidation_0-error:0.33006\n",
      "[329]\tvalidation_0-auc:0.72308\tvalidation_0-error:0.33040\n",
      "[330]\tvalidation_0-auc:0.72308\tvalidation_0-error:0.32972\n",
      "[331]\tvalidation_0-auc:0.72317\tvalidation_0-error:0.33040\n",
      "[332]\tvalidation_0-auc:0.72314\tvalidation_0-error:0.33040\n",
      "[333]\tvalidation_0-auc:0.72317\tvalidation_0-error:0.33040\n",
      "[334]\tvalidation_0-auc:0.72315\tvalidation_0-error:0.33040\n",
      "[335]\tvalidation_0-auc:0.72317\tvalidation_0-error:0.33074\n",
      "[336]\tvalidation_0-auc:0.72325\tvalidation_0-error:0.33074\n",
      "[337]\tvalidation_0-auc:0.72334\tvalidation_0-error:0.33074\n",
      "[338]\tvalidation_0-auc:0.72330\tvalidation_0-error:0.33040\n",
      "[339]\tvalidation_0-auc:0.72337\tvalidation_0-error:0.33040\n",
      "[340]\tvalidation_0-auc:0.72340\tvalidation_0-error:0.33040\n",
      "[341]\tvalidation_0-auc:0.72340\tvalidation_0-error:0.33040\n",
      "[342]\tvalidation_0-auc:0.72342\tvalidation_0-error:0.33040\n",
      "[343]\tvalidation_0-auc:0.72342\tvalidation_0-error:0.33040\n",
      "[344]\tvalidation_0-auc:0.72348\tvalidation_0-error:0.33006\n",
      "[345]\tvalidation_0-auc:0.72347\tvalidation_0-error:0.33006\n",
      "[346]\tvalidation_0-auc:0.72351\tvalidation_0-error:0.33006\n",
      "[347]\tvalidation_0-auc:0.72359\tvalidation_0-error:0.32972\n",
      "[348]\tvalidation_0-auc:0.72348\tvalidation_0-error:0.32972\n",
      "[349]\tvalidation_0-auc:0.72353\tvalidation_0-error:0.33006\n",
      "[350]\tvalidation_0-auc:0.72354\tvalidation_0-error:0.32972\n",
      "[351]\tvalidation_0-auc:0.72357\tvalidation_0-error:0.32972\n",
      "[352]\tvalidation_0-auc:0.72368\tvalidation_0-error:0.32972\n",
      "[353]\tvalidation_0-auc:0.72359\tvalidation_0-error:0.33006\n",
      "[354]\tvalidation_0-auc:0.72365\tvalidation_0-error:0.32972\n",
      "[355]\tvalidation_0-auc:0.72372\tvalidation_0-error:0.33006\n",
      "[356]\tvalidation_0-auc:0.72374\tvalidation_0-error:0.33040\n",
      "[357]\tvalidation_0-auc:0.72372\tvalidation_0-error:0.33006\n",
      "[358]\tvalidation_0-auc:0.72374\tvalidation_0-error:0.33006\n",
      "[359]\tvalidation_0-auc:0.72378\tvalidation_0-error:0.33040\n",
      "[360]\tvalidation_0-auc:0.72375\tvalidation_0-error:0.33040\n",
      "[361]\tvalidation_0-auc:0.72386\tvalidation_0-error:0.33040\n",
      "[362]\tvalidation_0-auc:0.72385\tvalidation_0-error:0.33006\n",
      "[363]\tvalidation_0-auc:0.72387\tvalidation_0-error:0.33006\n",
      "[364]\tvalidation_0-auc:0.72388\tvalidation_0-error:0.33040\n",
      "[365]\tvalidation_0-auc:0.72393\tvalidation_0-error:0.33006\n",
      "[366]\tvalidation_0-auc:0.72393\tvalidation_0-error:0.32972\n",
      "[367]\tvalidation_0-auc:0.72401\tvalidation_0-error:0.32972\n",
      "[368]\tvalidation_0-auc:0.72409\tvalidation_0-error:0.32972\n",
      "[369]\tvalidation_0-auc:0.72403\tvalidation_0-error:0.32972\n",
      "[370]\tvalidation_0-auc:0.72408\tvalidation_0-error:0.32938\n",
      "[371]\tvalidation_0-auc:0.72413\tvalidation_0-error:0.32938\n",
      "[372]\tvalidation_0-auc:0.72417\tvalidation_0-error:0.32938\n",
      "[373]\tvalidation_0-auc:0.72415\tvalidation_0-error:0.32938\n",
      "[374]\tvalidation_0-auc:0.72419\tvalidation_0-error:0.32938\n",
      "[375]\tvalidation_0-auc:0.72424\tvalidation_0-error:0.32938\n",
      "[376]\tvalidation_0-auc:0.72430\tvalidation_0-error:0.32972\n",
      "[377]\tvalidation_0-auc:0.72429\tvalidation_0-error:0.32904\n",
      "[378]\tvalidation_0-auc:0.72426\tvalidation_0-error:0.32938\n",
      "[379]\tvalidation_0-auc:0.72429\tvalidation_0-error:0.32938\n",
      "[380]\tvalidation_0-auc:0.72429\tvalidation_0-error:0.32904\n",
      "[381]\tvalidation_0-auc:0.72434\tvalidation_0-error:0.32972\n",
      "[382]\tvalidation_0-auc:0.72434\tvalidation_0-error:0.32904\n",
      "[383]\tvalidation_0-auc:0.72437\tvalidation_0-error:0.32938\n",
      "[384]\tvalidation_0-auc:0.72437\tvalidation_0-error:0.33006\n",
      "[385]\tvalidation_0-auc:0.72437\tvalidation_0-error:0.32972\n",
      "[386]\tvalidation_0-auc:0.72439\tvalidation_0-error:0.32972\n",
      "[387]\tvalidation_0-auc:0.72439\tvalidation_0-error:0.33006\n",
      "[388]\tvalidation_0-auc:0.72437\tvalidation_0-error:0.32972\n",
      "[389]\tvalidation_0-auc:0.72438\tvalidation_0-error:0.32972\n",
      "[390]\tvalidation_0-auc:0.72444\tvalidation_0-error:0.32972\n",
      "[391]\tvalidation_0-auc:0.72432\tvalidation_0-error:0.33006\n",
      "[392]\tvalidation_0-auc:0.72436\tvalidation_0-error:0.32972\n",
      "[393]\tvalidation_0-auc:0.72441\tvalidation_0-error:0.32972\n",
      "[394]\tvalidation_0-auc:0.72444\tvalidation_0-error:0.32972\n",
      "[395]\tvalidation_0-auc:0.72447\tvalidation_0-error:0.32972\n",
      "[396]\tvalidation_0-auc:0.72447\tvalidation_0-error:0.32972\n",
      "[397]\tvalidation_0-auc:0.72450\tvalidation_0-error:0.33006\n",
      "[398]\tvalidation_0-auc:0.72458\tvalidation_0-error:0.32938\n",
      "[399]\tvalidation_0-auc:0.72455\tvalidation_0-error:0.32972\n",
      "[400]\tvalidation_0-auc:0.72458\tvalidation_0-error:0.32938\n",
      "[401]\tvalidation_0-auc:0.72463\tvalidation_0-error:0.32938\n",
      "[402]\tvalidation_0-auc:0.72468\tvalidation_0-error:0.32972\n",
      "[403]\tvalidation_0-auc:0.72456\tvalidation_0-error:0.32972\n",
      "[404]\tvalidation_0-auc:0.72458\tvalidation_0-error:0.32972\n",
      "[405]\tvalidation_0-auc:0.72462\tvalidation_0-error:0.33006\n",
      "[406]\tvalidation_0-auc:0.72469\tvalidation_0-error:0.33006\n",
      "[407]\tvalidation_0-auc:0.72464\tvalidation_0-error:0.33243\n",
      "[408]\tvalidation_0-auc:0.72463\tvalidation_0-error:0.33277\n",
      "[409]\tvalidation_0-auc:0.72467\tvalidation_0-error:0.33209\n",
      "[410]\tvalidation_0-auc:0.72475\tvalidation_0-error:0.33277\n",
      "[411]\tvalidation_0-auc:0.72470\tvalidation_0-error:0.33209\n",
      "[412]\tvalidation_0-auc:0.72474\tvalidation_0-error:0.33175\n",
      "[413]\tvalidation_0-auc:0.72482\tvalidation_0-error:0.33107\n",
      "[414]\tvalidation_0-auc:0.72484\tvalidation_0-error:0.33107\n",
      "[415]\tvalidation_0-auc:0.72479\tvalidation_0-error:0.32972\n",
      "[416]\tvalidation_0-auc:0.72482\tvalidation_0-error:0.32972\n",
      "[417]\tvalidation_0-auc:0.72480\tvalidation_0-error:0.32972\n",
      "[418]\tvalidation_0-auc:0.72481\tvalidation_0-error:0.33006\n",
      "[419]\tvalidation_0-auc:0.72479\tvalidation_0-error:0.33006\n",
      "[420]\tvalidation_0-auc:0.72485\tvalidation_0-error:0.32972\n",
      "[421]\tvalidation_0-auc:0.72492\tvalidation_0-error:0.32972\n",
      "[422]\tvalidation_0-auc:0.72490\tvalidation_0-error:0.32904\n",
      "[423]\tvalidation_0-auc:0.72488\tvalidation_0-error:0.32904\n",
      "[424]\tvalidation_0-auc:0.72487\tvalidation_0-error:0.32938\n",
      "[425]\tvalidation_0-auc:0.72490\tvalidation_0-error:0.32938\n",
      "[426]\tvalidation_0-auc:0.72500\tvalidation_0-error:0.32938\n"
     ]
    },
    {
     "name": "stdout",
     "output_type": "stream",
     "text": [
      "[427]\tvalidation_0-auc:0.72501\tvalidation_0-error:0.32938\n",
      "[428]\tvalidation_0-auc:0.72508\tvalidation_0-error:0.32938\n",
      "[429]\tvalidation_0-auc:0.72508\tvalidation_0-error:0.32870\n",
      "[430]\tvalidation_0-auc:0.72512\tvalidation_0-error:0.32870\n",
      "[431]\tvalidation_0-auc:0.72512\tvalidation_0-error:0.32904\n",
      "[432]\tvalidation_0-auc:0.72522\tvalidation_0-error:0.32904\n",
      "[433]\tvalidation_0-auc:0.72520\tvalidation_0-error:0.32904\n",
      "[434]\tvalidation_0-auc:0.72523\tvalidation_0-error:0.32904\n",
      "[435]\tvalidation_0-auc:0.72528\tvalidation_0-error:0.32904\n",
      "[436]\tvalidation_0-auc:0.72525\tvalidation_0-error:0.32904\n",
      "[437]\tvalidation_0-auc:0.72533\tvalidation_0-error:0.32870\n",
      "[438]\tvalidation_0-auc:0.72533\tvalidation_0-error:0.32870\n",
      "[439]\tvalidation_0-auc:0.72537\tvalidation_0-error:0.32870\n",
      "[440]\tvalidation_0-auc:0.72540\tvalidation_0-error:0.32904\n",
      "[441]\tvalidation_0-auc:0.72541\tvalidation_0-error:0.32904\n",
      "[442]\tvalidation_0-auc:0.72547\tvalidation_0-error:0.32904\n",
      "[443]\tvalidation_0-auc:0.72547\tvalidation_0-error:0.32870\n",
      "[444]\tvalidation_0-auc:0.72552\tvalidation_0-error:0.32870\n",
      "[445]\tvalidation_0-auc:0.72552\tvalidation_0-error:0.32802\n",
      "[446]\tvalidation_0-auc:0.72553\tvalidation_0-error:0.32904\n",
      "[447]\tvalidation_0-auc:0.72563\tvalidation_0-error:0.32938\n",
      "[448]\tvalidation_0-auc:0.72565\tvalidation_0-error:0.32904\n",
      "[449]\tvalidation_0-auc:0.72562\tvalidation_0-error:0.32836\n",
      "[450]\tvalidation_0-auc:0.72558\tvalidation_0-error:0.32802\n",
      "[451]\tvalidation_0-auc:0.72561\tvalidation_0-error:0.32735\n",
      "[452]\tvalidation_0-auc:0.72566\tvalidation_0-error:0.32802\n",
      "[453]\tvalidation_0-auc:0.72571\tvalidation_0-error:0.32836\n",
      "[454]\tvalidation_0-auc:0.72573\tvalidation_0-error:0.32802\n",
      "[455]\tvalidation_0-auc:0.72580\tvalidation_0-error:0.32802\n",
      "[456]\tvalidation_0-auc:0.72576\tvalidation_0-error:0.32769\n",
      "[457]\tvalidation_0-auc:0.72578\tvalidation_0-error:0.32769\n",
      "[458]\tvalidation_0-auc:0.72584\tvalidation_0-error:0.32769\n",
      "[459]\tvalidation_0-auc:0.72583\tvalidation_0-error:0.32769\n",
      "[460]\tvalidation_0-auc:0.72584\tvalidation_0-error:0.32769\n",
      "[461]\tvalidation_0-auc:0.72584\tvalidation_0-error:0.32769\n",
      "[462]\tvalidation_0-auc:0.72588\tvalidation_0-error:0.32769\n",
      "[463]\tvalidation_0-auc:0.72597\tvalidation_0-error:0.32769\n",
      "[464]\tvalidation_0-auc:0.72593\tvalidation_0-error:0.32769\n",
      "[465]\tvalidation_0-auc:0.72594\tvalidation_0-error:0.32769\n",
      "[466]\tvalidation_0-auc:0.72597\tvalidation_0-error:0.32735\n",
      "[467]\tvalidation_0-auc:0.72600\tvalidation_0-error:0.32735\n",
      "[468]\tvalidation_0-auc:0.72601\tvalidation_0-error:0.32667\n",
      "[469]\tvalidation_0-auc:0.72603\tvalidation_0-error:0.32735\n",
      "[470]\tvalidation_0-auc:0.72602\tvalidation_0-error:0.32735\n",
      "[471]\tvalidation_0-auc:0.72607\tvalidation_0-error:0.32769\n",
      "[472]\tvalidation_0-auc:0.72610\tvalidation_0-error:0.32701\n",
      "[473]\tvalidation_0-auc:0.72610\tvalidation_0-error:0.32667\n",
      "[474]\tvalidation_0-auc:0.72622\tvalidation_0-error:0.32667\n",
      "[475]\tvalidation_0-auc:0.72627\tvalidation_0-error:0.32735\n",
      "[476]\tvalidation_0-auc:0.72627\tvalidation_0-error:0.32701\n",
      "[477]\tvalidation_0-auc:0.72624\tvalidation_0-error:0.32599\n",
      "[478]\tvalidation_0-auc:0.72638\tvalidation_0-error:0.32633\n",
      "[479]\tvalidation_0-auc:0.72638\tvalidation_0-error:0.32633\n",
      "[480]\tvalidation_0-auc:0.72639\tvalidation_0-error:0.32633\n",
      "[481]\tvalidation_0-auc:0.72647\tvalidation_0-error:0.32633\n",
      "[482]\tvalidation_0-auc:0.72647\tvalidation_0-error:0.32633\n",
      "[483]\tvalidation_0-auc:0.72650\tvalidation_0-error:0.32633\n",
      "[484]\tvalidation_0-auc:0.72661\tvalidation_0-error:0.32633\n",
      "[485]\tvalidation_0-auc:0.72667\tvalidation_0-error:0.32633\n",
      "[486]\tvalidation_0-auc:0.72665\tvalidation_0-error:0.32633\n",
      "[487]\tvalidation_0-auc:0.72666\tvalidation_0-error:0.32633\n",
      "[488]\tvalidation_0-auc:0.72667\tvalidation_0-error:0.32633\n",
      "[489]\tvalidation_0-auc:0.72677\tvalidation_0-error:0.32633\n",
      "[490]\tvalidation_0-auc:0.72677\tvalidation_0-error:0.32633\n",
      "[491]\tvalidation_0-auc:0.72681\tvalidation_0-error:0.32633\n",
      "[492]\tvalidation_0-auc:0.72681\tvalidation_0-error:0.32599\n",
      "[493]\tvalidation_0-auc:0.72684\tvalidation_0-error:0.32565\n",
      "[494]\tvalidation_0-auc:0.72685\tvalidation_0-error:0.32565\n",
      "[495]\tvalidation_0-auc:0.72688\tvalidation_0-error:0.32565\n",
      "[496]\tvalidation_0-auc:0.72695\tvalidation_0-error:0.32565\n",
      "[497]\tvalidation_0-auc:0.72696\tvalidation_0-error:0.32565\n",
      "[498]\tvalidation_0-auc:0.72695\tvalidation_0-error:0.32565\n",
      "[499]\tvalidation_0-auc:0.72698\tvalidation_0-error:0.32565\n"
     ]
    },
    {
     "data": {
      "text/plain": [
       "XGBClassifier(base_score=0.5, booster='gbtree', colsample_bylevel=1,\n",
       "              colsample_bynode=1, colsample_bytree=1, gamma=0, gpu_id=-1,\n",
       "              importance_type='gain', interaction_constraints='',\n",
       "              learning_rate=0.01, max_delta_step=0, max_depth=3,\n",
       "              min_child_weight=1, missing=nan, monotone_constraints='()',\n",
       "              n_estimators=500, n_jobs=8, num_parallel_tree=1, random_state=1,\n",
       "              reg_alpha=0, reg_lambda=1, scale_pos_weight=3.1827842720510096,\n",
       "              subsample=1, tree_method='exact', validate_parameters=1,\n",
       "              verbosity=None)"
      ]
     },
     "execution_count": 158,
     "metadata": {},
     "output_type": "execute_result"
    }
   ],
   "source": [
    "model = XGBClassifier(max_depth = 3,\n",
    "                      n_estimators = 500,\n",
    "                      learning_rate=0.01,\n",
    "                      scale_pos_weight=(y_train==0).sum()/(y_train==1).sum(), #class_weights[1],\n",
    "                     random_state = 1)\n",
    "model.fit(X=X_train.loc[:,important_cols],\n",
    "          y=y_train, \n",
    "          eval_set = [(X_test.loc[:,important_cols],y_test)],\n",
    "         eval_metric=[\"auc\", \"error\"])"
   ]
  },
  {
   "cell_type": "code",
   "execution_count": 159,
   "metadata": {},
   "outputs": [],
   "source": [
    "predictions_test = model.predict_proba(X_test.loc[:,important_cols])\n",
    "predictions_train = model.predict_proba(X_train.loc[:,important_cols])"
   ]
  },
  {
   "cell_type": "code",
   "execution_count": 160,
   "metadata": {},
   "outputs": [
    {
     "data": {
      "image/png": "[encoded data removed]",
      "text/plain": [
       "<Figure size 432x288 with 1 Axes>"
      ]
     },
     "metadata": {
      "needs_background": "light"
     },
     "output_type": "display_data"
    }
   ],
   "source": [
    "test_lr_fpr, test_lr_tpr, _ = roc_curve(y_test, predictions_test[:,1])\n",
    "train_lr_fpr, train_lr_tpr, _ = roc_curve(y_train, predictions_train[:,1])\n",
    "# plot the roc curve for the model\n",
    "plt.plot(test_lr_fpr, test_lr_tpr, marker='.', label='Test')\n",
    "plt.plot(train_lr_fpr, train_lr_tpr, marker='.', label='Train')\n",
    "# axis labels\n",
    "plt.xlabel('False Positive Rate')\n",
    "plt.ylabel('True Positive Rate')\n",
    "# show the legend\n",
    "plt.legend()\n",
    "# show the plot\n",
    "plt.show()"
   ]
  },
  {
   "cell_type": "code",
   "execution_count": 161,
   "metadata": {},
   "outputs": [
    {
     "name": "stdout",
     "output_type": "stream",
     "text": [
      "Train AUC: 0.7328999546810315, test AUC: 0.7269854051015833\n"
     ]
    }
   ],
   "source": [
    "print(\"Train AUC: {}, test AUC: {}\".format(\n",
    "    roc_auc_score(y_train, predictions_train[:,1]),\n",
    "    roc_auc_score(y_test, predictions_test[:,1])))"
   ]
  },
  {
   "cell_type": "code",
   "execution_count": 162,
   "metadata": {},
   "outputs": [],
   "source": [
    "predictions_test = model.predict(X_test.loc[:,important_cols])\n",
    "predictions_train = model.predict(X_train.loc[:,important_cols])"
   ]
  },
  {
   "cell_type": "code",
   "execution_count": 163,
   "metadata": {},
   "outputs": [
    {
     "name": "stdout",
     "output_type": "stream",
     "text": [
      "Confusion Matrix\n",
      "[[1530  716]\n",
      " [ 245  460]]\n",
      "Classification Report\n",
      "              precision    recall  f1-score   support\n",
      "\n",
      "           0       0.86      0.68      0.76      2246\n",
      "           1       0.39      0.65      0.49       705\n",
      "\n",
      "    accuracy                           0.67      2951\n",
      "   macro avg       0.63      0.67      0.63      2951\n",
      "weighted avg       0.75      0.67      0.70      2951\n",
      "\n",
      "Accuracy = 0.6743476787529651\n"
     ]
    }
   ],
   "source": [
    "# Moduł sklearn.metrics pozwala na automatyczne obliczenie bardziej skomplikowanych metryk.\n",
    "print('Confusion Matrix')\n",
    "print(confusion_matrix(y_test, predictions_test))\n",
    "print('Classification Report')\n",
    "print(classification_report(y_test, predictions_test))\n",
    "print('Accuracy = '+ str(accuracy_score(y_test, predictions_test)))"
   ]
  },
  {
   "cell_type": "code",
   "execution_count": 164,
   "metadata": {},
   "outputs": [
    {
     "name": "stdout",
     "output_type": "stream",
     "text": [
      "Confusion Matrix\n",
      "[[6039 2946]\n",
      " [ 936 1887]]\n",
      "Classification Report\n",
      "              precision    recall  f1-score   support\n",
      "\n",
      "           0       0.87      0.67      0.76      8985\n",
      "           1       0.39      0.67      0.49      2823\n",
      "\n",
      "    accuracy                           0.67     11808\n",
      "   macro avg       0.63      0.67      0.62     11808\n",
      "weighted avg       0.75      0.67      0.69     11808\n",
      "\n",
      "Accuracy = 0.671239837398374\n"
     ]
    }
   ],
   "source": [
    "# Moduł sklearn.metrics pozwala na automatyczne obliczenie bardziej skomplikowanych metryk.\n",
    "print('Confusion Matrix')\n",
    "print(confusion_matrix(y_train, predictions_train))\n",
    "print('Classification Report')\n",
    "print(classification_report(y_train, predictions_train))\n",
    "print('Accuracy = '+ str(accuracy_score(y_train, predictions_train)))"
   ]
  },
  {
   "cell_type": "code",
   "execution_count": 165,
   "metadata": {},
   "outputs": [],
   "source": [
    "explainer = shap.Explainer(model)\n",
    "shap_values = explainer(X_train.loc[:,important_cols])"
   ]
  },
  {
   "cell_type": "code",
   "execution_count": 166,
   "metadata": {},
   "outputs": [
    {
     "data": {
      "image/png": "[encoded data removed]",
      "text/plain": [
       "<Figure size 576x720 with 3 Axes>"
      ]
     },
     "metadata": {},
     "output_type": "display_data"
    }
   ],
   "source": [
    "shap.plots.waterfall(shap_values[0], max_display=20)"
   ]
  },
  {
   "cell_type": "code",
   "execution_count": 167,
   "metadata": {},
   "outputs": [
    {
     "data": {
      "image/png": "[encoded data removed]",
      "text/plain": [
       "<Figure size 576x597.6 with 2 Axes>"
      ]
     },
     "metadata": {
      "needs_background": "light"
     },
     "output_type": "display_data"
    }
   ],
   "source": [
    "# summarize the effects of all the features\n",
    "shap.plots.beeswarm(shap_values, max_display=20)"
   ]
  },
  {
   "cell_type": "code",
   "execution_count": 154,
   "metadata": {},
   "outputs": [
    {
     "data": {
      "image/png": "[encoded data removed]",
      "text/plain": [
       "<Figure size 576x720 with 1 Axes>"
      ]
     },
     "metadata": {},
     "output_type": "display_data"
    }
   ],
   "source": [
    "shap.plots.bar(shap_values, max_display=20)"
   ]
  },
  {
   "cell_type": "code",
   "execution_count": 143,
   "metadata": {},
   "outputs": [
    {
     "data": {
      "text/plain": [
       "2.091392136025505"
      ]
     },
     "execution_count": 143,
     "metadata": {},
     "output_type": "execute_result"
    }
   ],
   "source": []
  }
 ],
 "metadata": {
  "colab": {
   "collapsed_sections": [],
   "name": "smoking_factors.ipynb",
   "provenance": []
  },
  "kernelspec": {
   "display_name": "Python 3",
   "language": "python",
   "name": "python3"
  },
  "language_info": {
   "codemirror_mode": {
    "name": "ipython",
    "version": 3
   },
   "file_extension": ".py",
   "mimetype": "text/x-python",
   "name": "python",
   "nbconvert_exporter": "python",
   "pygments_lexer": "ipython3",
   "version": "3.7.9"
  }
 },
 "nbformat": 4,
 "nbformat_minor": 1
}
